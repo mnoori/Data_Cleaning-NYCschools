{
 "cells": [
  {
   "cell_type": "code",
   "execution_count": 79,
   "metadata": {},
   "outputs": [],
   "source": [
    "import pandas as pd\n",
    "import seaborn as sns\n",
    "import matplotlib.pyplot as plt\n",
    "%matplotlib inline\n",
    "\n",
    "#we want Jupyter to show head of multiple variables or dataframes in a cell when multiple variables are called.\n",
    "from IPython.core.interactiveshell import InteractiveShell\n",
    "InteractiveShell.ast_node_interactivity = \"all\" \n",
    "# As we are going to work on several datasets, we will read each file into a dataframe, and then store the dataframes in a...\n",
    "#...dictionary, in order to be able to call them easier in the future.\n",
    "\n",
    "# I have stored all the files in a \"schools\" folder on my notebook.\n",
    "data_files = [\n",
    "    \"ap_2010.csv\",\n",
    "    \"class_size.csv\",\n",
    "    \"demographics.csv\",\n",
    "    \"graduation.csv\",\n",
    "    \"hs_directory.csv\",\n",
    "    \"sat_results.csv\"\n",
    "]\n",
    "data = {}\n",
    "for f in data_files:\n",
    "    d=pd.read_csv('schools/{0}'.format(f)) #we use the fomat() method of Formatter class. this method takes positional index i.e. {0}\n",
    "    key=f.replace(\".csv\",\"\")\n",
    "    data[key]=d"
   ]
  },
  {
   "cell_type": "markdown",
   "metadata": {
    "collapsed": true
   },
   "source": [
    "We're interested to explore SAT results. This was our primary goal. Therefore, it is better to explore this dataset and get familar with its structure. "
   ]
  },
  {
   "cell_type": "code",
   "execution_count": 2,
   "metadata": {},
   "outputs": [
    {
     "data": {
      "text/html": [
       "<div>\n",
       "<style>\n",
       "    .dataframe thead tr:only-child th {\n",
       "        text-align: right;\n",
       "    }\n",
       "\n",
       "    .dataframe thead th {\n",
       "        text-align: left;\n",
       "    }\n",
       "\n",
       "    .dataframe tbody tr th {\n",
       "        vertical-align: top;\n",
       "    }\n",
       "</style>\n",
       "<table border=\"1\" class=\"dataframe\">\n",
       "  <thead>\n",
       "    <tr style=\"text-align: right;\">\n",
       "      <th></th>\n",
       "      <th>DBN</th>\n",
       "      <th>SCHOOL NAME</th>\n",
       "      <th>Num of SAT Test Takers</th>\n",
       "      <th>SAT Critical Reading Avg. Score</th>\n",
       "      <th>SAT Math Avg. Score</th>\n",
       "      <th>SAT Writing Avg. Score</th>\n",
       "    </tr>\n",
       "  </thead>\n",
       "  <tbody>\n",
       "    <tr>\n",
       "      <th>0</th>\n",
       "      <td>01M292</td>\n",
       "      <td>HENRY STREET SCHOOL FOR INTERNATIONAL STUDIES</td>\n",
       "      <td>29</td>\n",
       "      <td>355</td>\n",
       "      <td>404</td>\n",
       "      <td>363</td>\n",
       "    </tr>\n",
       "    <tr>\n",
       "      <th>1</th>\n",
       "      <td>01M448</td>\n",
       "      <td>UNIVERSITY NEIGHBORHOOD HIGH SCHOOL</td>\n",
       "      <td>91</td>\n",
       "      <td>383</td>\n",
       "      <td>423</td>\n",
       "      <td>366</td>\n",
       "    </tr>\n",
       "    <tr>\n",
       "      <th>2</th>\n",
       "      <td>01M450</td>\n",
       "      <td>EAST SIDE COMMUNITY SCHOOL</td>\n",
       "      <td>70</td>\n",
       "      <td>377</td>\n",
       "      <td>402</td>\n",
       "      <td>370</td>\n",
       "    </tr>\n",
       "    <tr>\n",
       "      <th>3</th>\n",
       "      <td>01M458</td>\n",
       "      <td>FORSYTH SATELLITE ACADEMY</td>\n",
       "      <td>7</td>\n",
       "      <td>414</td>\n",
       "      <td>401</td>\n",
       "      <td>359</td>\n",
       "    </tr>\n",
       "    <tr>\n",
       "      <th>4</th>\n",
       "      <td>01M509</td>\n",
       "      <td>MARTA VALLE HIGH SCHOOL</td>\n",
       "      <td>44</td>\n",
       "      <td>390</td>\n",
       "      <td>433</td>\n",
       "      <td>384</td>\n",
       "    </tr>\n",
       "  </tbody>\n",
       "</table>\n",
       "</div>"
      ],
      "text/plain": [
       "      DBN                                    SCHOOL NAME  \\\n",
       "0  01M292  HENRY STREET SCHOOL FOR INTERNATIONAL STUDIES   \n",
       "1  01M448            UNIVERSITY NEIGHBORHOOD HIGH SCHOOL   \n",
       "2  01M450                     EAST SIDE COMMUNITY SCHOOL   \n",
       "3  01M458                      FORSYTH SATELLITE ACADEMY   \n",
       "4  01M509                        MARTA VALLE HIGH SCHOOL   \n",
       "\n",
       "  Num of SAT Test Takers SAT Critical Reading Avg. Score SAT Math Avg. Score  \\\n",
       "0                     29                             355                 404   \n",
       "1                     91                             383                 423   \n",
       "2                     70                             377                 402   \n",
       "3                      7                             414                 401   \n",
       "4                     44                             390                 433   \n",
       "\n",
       "  SAT Writing Avg. Score  \n",
       "0                    363  \n",
       "1                    366  \n",
       "2                    370  \n",
       "3                    359  \n",
       "4                    384  "
      ]
     },
     "execution_count": 2,
     "metadata": {},
     "output_type": "execute_result"
    }
   ],
   "source": [
    "data['sat_results'].head(5)"
   ]
  },
  {
   "cell_type": "markdown",
   "metadata": {},
   "source": [
    "We can merge the datasets using DBN, as it is unique for each school. \n",
    "Also, some of the information is more interesting for us, including the location of the school, as it might have relationships to the demographics of each borough within NYC.\n",
    "We need to think about multiple records for one school,. We need to do some preprocessing to ensure that each DBN is unique within each dataset.\n",
    "\n",
    "The surveys are in txt format and encoded with Windows-1252. An encoding defines how a computer stores the contents of a file in binary. The most common encodings are UTF-8 and ASCII. We need to tell python know how to read the txt files."
   ]
  },
  {
   "cell_type": "code",
   "execution_count": 3,
   "metadata": {},
   "outputs": [
    {
     "data": {
      "text/html": [
       "<div>\n",
       "<style>\n",
       "    .dataframe thead tr:only-child th {\n",
       "        text-align: right;\n",
       "    }\n",
       "\n",
       "    .dataframe thead th {\n",
       "        text-align: left;\n",
       "    }\n",
       "\n",
       "    .dataframe tbody tr th {\n",
       "        vertical-align: top;\n",
       "    }\n",
       "</style>\n",
       "<table border=\"1\" class=\"dataframe\">\n",
       "  <thead>\n",
       "    <tr style=\"text-align: right;\">\n",
       "      <th></th>\n",
       "      <th>N_p</th>\n",
       "      <th>N_s</th>\n",
       "      <th>N_t</th>\n",
       "      <th>aca_p_11</th>\n",
       "      <th>aca_s_11</th>\n",
       "      <th>aca_t_11</th>\n",
       "      <th>aca_tot_11</th>\n",
       "      <th>bn</th>\n",
       "      <th>com_p_11</th>\n",
       "      <th>com_s_11</th>\n",
       "      <th>...</th>\n",
       "      <th>t_q8c_1</th>\n",
       "      <th>t_q8c_2</th>\n",
       "      <th>t_q8c_3</th>\n",
       "      <th>t_q8c_4</th>\n",
       "      <th>t_q9</th>\n",
       "      <th>t_q9_1</th>\n",
       "      <th>t_q9_2</th>\n",
       "      <th>t_q9_3</th>\n",
       "      <th>t_q9_4</th>\n",
       "      <th>t_q9_5</th>\n",
       "    </tr>\n",
       "  </thead>\n",
       "  <tbody>\n",
       "    <tr>\n",
       "      <th>0</th>\n",
       "      <td>90.0</td>\n",
       "      <td>NaN</td>\n",
       "      <td>22.0</td>\n",
       "      <td>7.8</td>\n",
       "      <td>NaN</td>\n",
       "      <td>7.9</td>\n",
       "      <td>7.9</td>\n",
       "      <td>M015</td>\n",
       "      <td>7.6</td>\n",
       "      <td>NaN</td>\n",
       "      <td>...</td>\n",
       "      <td>29.0</td>\n",
       "      <td>67.0</td>\n",
       "      <td>5.0</td>\n",
       "      <td>0.0</td>\n",
       "      <td>NaN</td>\n",
       "      <td>5.0</td>\n",
       "      <td>14.0</td>\n",
       "      <td>52.0</td>\n",
       "      <td>24.0</td>\n",
       "      <td>5.0</td>\n",
       "    </tr>\n",
       "    <tr>\n",
       "      <th>1</th>\n",
       "      <td>161.0</td>\n",
       "      <td>NaN</td>\n",
       "      <td>34.0</td>\n",
       "      <td>7.8</td>\n",
       "      <td>NaN</td>\n",
       "      <td>9.1</td>\n",
       "      <td>8.4</td>\n",
       "      <td>M019</td>\n",
       "      <td>7.6</td>\n",
       "      <td>NaN</td>\n",
       "      <td>...</td>\n",
       "      <td>74.0</td>\n",
       "      <td>21.0</td>\n",
       "      <td>6.0</td>\n",
       "      <td>0.0</td>\n",
       "      <td>NaN</td>\n",
       "      <td>3.0</td>\n",
       "      <td>6.0</td>\n",
       "      <td>3.0</td>\n",
       "      <td>78.0</td>\n",
       "      <td>9.0</td>\n",
       "    </tr>\n",
       "    <tr>\n",
       "      <th>2</th>\n",
       "      <td>367.0</td>\n",
       "      <td>NaN</td>\n",
       "      <td>42.0</td>\n",
       "      <td>8.6</td>\n",
       "      <td>NaN</td>\n",
       "      <td>7.5</td>\n",
       "      <td>8.0</td>\n",
       "      <td>M020</td>\n",
       "      <td>8.3</td>\n",
       "      <td>NaN</td>\n",
       "      <td>...</td>\n",
       "      <td>33.0</td>\n",
       "      <td>35.0</td>\n",
       "      <td>20.0</td>\n",
       "      <td>13.0</td>\n",
       "      <td>NaN</td>\n",
       "      <td>3.0</td>\n",
       "      <td>5.0</td>\n",
       "      <td>16.0</td>\n",
       "      <td>70.0</td>\n",
       "      <td>5.0</td>\n",
       "    </tr>\n",
       "    <tr>\n",
       "      <th>3</th>\n",
       "      <td>151.0</td>\n",
       "      <td>145.0</td>\n",
       "      <td>29.0</td>\n",
       "      <td>8.5</td>\n",
       "      <td>7.4</td>\n",
       "      <td>7.8</td>\n",
       "      <td>7.9</td>\n",
       "      <td>M034</td>\n",
       "      <td>8.2</td>\n",
       "      <td>5.9</td>\n",
       "      <td>...</td>\n",
       "      <td>21.0</td>\n",
       "      <td>45.0</td>\n",
       "      <td>28.0</td>\n",
       "      <td>7.0</td>\n",
       "      <td>NaN</td>\n",
       "      <td>0.0</td>\n",
       "      <td>18.0</td>\n",
       "      <td>32.0</td>\n",
       "      <td>39.0</td>\n",
       "      <td>11.0</td>\n",
       "    </tr>\n",
       "    <tr>\n",
       "      <th>4</th>\n",
       "      <td>90.0</td>\n",
       "      <td>NaN</td>\n",
       "      <td>23.0</td>\n",
       "      <td>7.9</td>\n",
       "      <td>NaN</td>\n",
       "      <td>8.1</td>\n",
       "      <td>8.0</td>\n",
       "      <td>M063</td>\n",
       "      <td>7.9</td>\n",
       "      <td>NaN</td>\n",
       "      <td>...</td>\n",
       "      <td>59.0</td>\n",
       "      <td>36.0</td>\n",
       "      <td>5.0</td>\n",
       "      <td>0.0</td>\n",
       "      <td>NaN</td>\n",
       "      <td>10.0</td>\n",
       "      <td>5.0</td>\n",
       "      <td>10.0</td>\n",
       "      <td>60.0</td>\n",
       "      <td>15.0</td>\n",
       "    </tr>\n",
       "  </tbody>\n",
       "</table>\n",
       "<p>5 rows × 2773 columns</p>\n",
       "</div>"
      ],
      "text/plain": [
       "     N_p    N_s   N_t  aca_p_11  aca_s_11  aca_t_11  aca_tot_11    bn  \\\n",
       "0   90.0    NaN  22.0       7.8       NaN       7.9         7.9  M015   \n",
       "1  161.0    NaN  34.0       7.8       NaN       9.1         8.4  M019   \n",
       "2  367.0    NaN  42.0       8.6       NaN       7.5         8.0  M020   \n",
       "3  151.0  145.0  29.0       8.5       7.4       7.8         7.9  M034   \n",
       "4   90.0    NaN  23.0       7.9       NaN       8.1         8.0  M063   \n",
       "\n",
       "   com_p_11  com_s_11   ...    t_q8c_1  t_q8c_2  t_q8c_3 t_q8c_4  t_q9  \\\n",
       "0       7.6       NaN   ...       29.0     67.0      5.0     0.0   NaN   \n",
       "1       7.6       NaN   ...       74.0     21.0      6.0     0.0   NaN   \n",
       "2       8.3       NaN   ...       33.0     35.0     20.0    13.0   NaN   \n",
       "3       8.2       5.9   ...       21.0     45.0     28.0     7.0   NaN   \n",
       "4       7.9       NaN   ...       59.0     36.0      5.0     0.0   NaN   \n",
       "\n",
       "   t_q9_1  t_q9_2  t_q9_3  t_q9_4  t_q9_5  \n",
       "0     5.0    14.0    52.0    24.0     5.0  \n",
       "1     3.0     6.0     3.0    78.0     9.0  \n",
       "2     3.0     5.0    16.0    70.0     5.0  \n",
       "3     0.0    18.0    32.0    39.0    11.0  \n",
       "4    10.0     5.0    10.0    60.0    15.0  \n",
       "\n",
       "[5 rows x 2773 columns]"
      ]
     },
     "execution_count": 3,
     "metadata": {},
     "output_type": "execute_result"
    }
   ],
   "source": [
    "#first, let's combine two surveys into one dataframe using pd.concat() function. \n",
    "all_survey=pd.read_csv('schools/survey_all.txt',delimiter=\"\\t\",encoding=\"windows-1252\")\n",
    "d75_survey=pd.read_csv('schools/survey_d75.txt',delimiter=\"\\t\",encoding=\"windows-1252\")\n",
    "survey=pd.concat([all_survey, d75_survey],axis=0)\n",
    "survey.head()"
   ]
  },
  {
   "cell_type": "markdown",
   "metadata": {},
   "source": [
    "First we remove the columns we dont need. Then we find where the DBN column is and convert the name of it to DBN. This enables us to merge datasets using this ke.\n",
    "Surveys have a data dictionary (meta data) (available in the schools folder), we will use it to figure out which columns we'd like to use."
   ]
  },
  {
   "cell_type": "code",
   "execution_count": 4,
   "metadata": {
    "collapsed": true
   },
   "outputs": [],
   "source": [
    "survey['DBN']=survey['dbn'] #this copies the dbn column in a new colmn called DBN\n",
    "columns=[\"DBN\", \"rr_s\", \"rr_t\", \"rr_p\", \"N_s\", \"N_t\", \"N_p\", \"saf_p_11\", \"com_p_11\", \"eng_p_11\", \"aca_p_11\", \"saf_t_11\", \"com_t_11\", \"eng_t_11\", \"aca_t_11\", \"saf_s_11\", \"com_s_11\", \"eng_s_11\", \"aca_s_11\", \"saf_tot_11\", \"com_tot_11\", \"eng_tot_11\", \"aca_tot_11\"]\n",
    "#please note that we changed dbn to DBN\n",
    "survey=survey.loc[:,columns]  #using pd.dataframe.loc for picking columns that we need.\n",
    "data['survey']=survey #assigning the survey key of data dictionary to survey dataframe.\n"
   ]
  },
  {
   "cell_type": "markdown",
   "metadata": {},
   "source": [
    "Let's look at class_size and sat_results dataset once again. It appears as class_size does not have a DBN, however, if we combine CSD column with code, we will have DNB. Please note, CSD has to be always 2 digits."
   ]
  },
  {
   "cell_type": "code",
   "execution_count": 5,
   "metadata": {
    "collapsed": true
   },
   "outputs": [],
   "source": [
    "data[\"hs_directory\"][\"DBN\"]=data[\"hs_directory\"]['dbn'] #first let's copy a new column in hs_directory\n",
    "def two_digits(num): #create a function that takes a number and makes sure it is return in two digits\n",
    "    if len(str(num))>1:\n",
    "        return str(num)\n",
    "    else:\n",
    "        return str(num).zfill(2) #zfill method of string returns a string with length of 2 and adds 0 in the beginning. \n",
    "    \n",
    "data[\"class_size\"][\"padded_csd\"]=data[\"class_size\"][\"CSD\"].apply(two_digits)\n",
    "\n",
    "#surprisingly, we can add two string columns and combine them! That is why we wanted the funtion above to return string!\n",
    "data[\"class_size\"][\"DBN\"]=data[\"class_size\"][\"padded_csd\"]+data[\"class_size\"][\"SCHOOL CODE\"]"
   ]
  },
  {
   "cell_type": "markdown",
   "metadata": {},
   "source": [
    "Okay great! so far all of our datasets have a DBN column. Now it's time to combine them. Before we go head, we only want our final daset to have valuable information. For exmaple, we should have only one SAT score for each shcool. Let's combine the three of them and get one."
   ]
  },
  {
   "cell_type": "code",
   "execution_count": 6,
   "metadata": {},
   "outputs": [
    {
     "name": "stdout",
     "output_type": "stream",
     "text": [
      "0    1122.0\n",
      "1    1172.0\n",
      "2    1149.0\n",
      "3    1174.0\n",
      "4    1207.0\n",
      "Name: sat_score, dtype: float64\n"
     ]
    }
   ],
   "source": [
    "cols=['SAT Math Avg. Score', 'SAT Critical Reading Avg. Score', 'SAT Writing Avg. Score']\n",
    "for c in cols:\n",
    "    data['sat_results'][c]=pd.to_numeric(data['sat_results'][c],errors=\"coerce\")\n",
    "    #to_numeric is a function, and a column should is its argument. error='coerce' makes na as they dont exist!\n",
    "\n",
    "data['sat_results']['sat_score']=0\n",
    "for c in cols:\n",
    "    data['sat_results']['sat_score']=data['sat_results']['sat_score']+data['sat_results'][c]\n",
    "\n",
    "print(data['sat_results']['sat_score'].head())"
   ]
  },
  {
   "cell_type": "markdown",
   "metadata": {},
   "source": [
    "Next, we want to take the geographical info out of hs_dirctory."
   ]
  },
  {
   "cell_type": "code",
   "execution_count": 7,
   "metadata": {},
   "outputs": [],
   "source": [
    "import re\n",
    "def lat_extract(str_loc):\n",
    "    coords=re.findall('\\(.+\\)',str_loc) #searches in the string, and finds anaything that is between two parantheses.\n",
    "    #Note: the re.findall function returns a list\n",
    "    lat=coords[0].split(',')[0].replace(\"(\",\"\") #calls out first element of the list, splits by ','\n",
    "                                                #calles out first element of splited cell and replces '(\" with \"\".)\n",
    "    return lat\n",
    "\n",
    "data['hs_directory']['lat']=data['hs_directory']['Location 1'].apply(lat_extract)\n",
    "\n",
    "#doing the same thing for longtitude\n",
    "def lon_extract(str_loc):\n",
    "    coords=re.findall('\\(.+\\)',str_loc)\n",
    "    lon=coords[0].split(',')[1].replace(\")\",\"\").strip() #strip() returns a copy of the string which is stripped!\n",
    "                                                        #strip(0) removes all 0 from the string, let's say.\n",
    "    return lon\n",
    "data['hs_directory']['lon']=data['hs_directory']['Location 1'].apply(lon_extract)\n",
    "\n",
    "#converting them to numerical values\n",
    "data[\"hs_directory\"][\"lat\"] = pd.to_numeric(data[\"hs_directory\"][\"lat\"], errors=\"coerce\")\n",
    "data[\"hs_directory\"][\"lon\"] = pd.to_numeric(data[\"hs_directory\"][\"lon\"], errors=\"coerce\")"
   ]
  },
  {
   "cell_type": "markdown",
   "metadata": {},
   "source": [
    "Now, let's get more into each dataset. Let's start with class_size."
   ]
  },
  {
   "cell_type": "code",
   "execution_count": 8,
   "metadata": {},
   "outputs": [
    {
     "data": {
      "text/html": [
       "<div>\n",
       "<style>\n",
       "    .dataframe thead tr:only-child th {\n",
       "        text-align: right;\n",
       "    }\n",
       "\n",
       "    .dataframe thead th {\n",
       "        text-align: left;\n",
       "    }\n",
       "\n",
       "    .dataframe tbody tr th {\n",
       "        vertical-align: top;\n",
       "    }\n",
       "</style>\n",
       "<table border=\"1\" class=\"dataframe\">\n",
       "  <thead>\n",
       "    <tr style=\"text-align: right;\">\n",
       "      <th></th>\n",
       "      <th>CSD</th>\n",
       "      <th>BOROUGH</th>\n",
       "      <th>SCHOOL CODE</th>\n",
       "      <th>SCHOOL NAME</th>\n",
       "      <th>GRADE</th>\n",
       "      <th>PROGRAM TYPE</th>\n",
       "      <th>CORE SUBJECT (MS CORE and 9-12 ONLY)</th>\n",
       "      <th>CORE COURSE (MS CORE and 9-12 ONLY)</th>\n",
       "      <th>SERVICE CATEGORY(K-9* ONLY)</th>\n",
       "      <th>NUMBER OF STUDENTS / SEATS FILLED</th>\n",
       "      <th>NUMBER OF SECTIONS</th>\n",
       "      <th>AVERAGE CLASS SIZE</th>\n",
       "      <th>SIZE OF SMALLEST CLASS</th>\n",
       "      <th>SIZE OF LARGEST CLASS</th>\n",
       "      <th>DATA SOURCE</th>\n",
       "      <th>SCHOOLWIDE PUPIL-TEACHER RATIO</th>\n",
       "      <th>padded_csd</th>\n",
       "      <th>DBN</th>\n",
       "    </tr>\n",
       "  </thead>\n",
       "  <tbody>\n",
       "    <tr>\n",
       "      <th>0</th>\n",
       "      <td>1</td>\n",
       "      <td>M</td>\n",
       "      <td>M015</td>\n",
       "      <td>P.S. 015 Roberto Clemente</td>\n",
       "      <td>0K</td>\n",
       "      <td>GEN ED</td>\n",
       "      <td>-</td>\n",
       "      <td>-</td>\n",
       "      <td>-</td>\n",
       "      <td>19.0</td>\n",
       "      <td>1.0</td>\n",
       "      <td>19.0</td>\n",
       "      <td>19.0</td>\n",
       "      <td>19.0</td>\n",
       "      <td>ATS</td>\n",
       "      <td>NaN</td>\n",
       "      <td>01</td>\n",
       "      <td>01M015</td>\n",
       "    </tr>\n",
       "    <tr>\n",
       "      <th>1</th>\n",
       "      <td>1</td>\n",
       "      <td>M</td>\n",
       "      <td>M015</td>\n",
       "      <td>P.S. 015 Roberto Clemente</td>\n",
       "      <td>0K</td>\n",
       "      <td>CTT</td>\n",
       "      <td>-</td>\n",
       "      <td>-</td>\n",
       "      <td>-</td>\n",
       "      <td>21.0</td>\n",
       "      <td>1.0</td>\n",
       "      <td>21.0</td>\n",
       "      <td>21.0</td>\n",
       "      <td>21.0</td>\n",
       "      <td>ATS</td>\n",
       "      <td>NaN</td>\n",
       "      <td>01</td>\n",
       "      <td>01M015</td>\n",
       "    </tr>\n",
       "    <tr>\n",
       "      <th>2</th>\n",
       "      <td>1</td>\n",
       "      <td>M</td>\n",
       "      <td>M015</td>\n",
       "      <td>P.S. 015 Roberto Clemente</td>\n",
       "      <td>01</td>\n",
       "      <td>GEN ED</td>\n",
       "      <td>-</td>\n",
       "      <td>-</td>\n",
       "      <td>-</td>\n",
       "      <td>17.0</td>\n",
       "      <td>1.0</td>\n",
       "      <td>17.0</td>\n",
       "      <td>17.0</td>\n",
       "      <td>17.0</td>\n",
       "      <td>ATS</td>\n",
       "      <td>NaN</td>\n",
       "      <td>01</td>\n",
       "      <td>01M015</td>\n",
       "    </tr>\n",
       "  </tbody>\n",
       "</table>\n",
       "</div>"
      ],
      "text/plain": [
       "   CSD BOROUGH SCHOOL CODE                SCHOOL NAME GRADE  PROGRAM TYPE  \\\n",
       "0    1       M        M015  P.S. 015 Roberto Clemente     0K       GEN ED   \n",
       "1    1       M        M015  P.S. 015 Roberto Clemente     0K          CTT   \n",
       "2    1       M        M015  P.S. 015 Roberto Clemente     01       GEN ED   \n",
       "\n",
       "  CORE SUBJECT (MS CORE and 9-12 ONLY) CORE COURSE (MS CORE and 9-12 ONLY)  \\\n",
       "0                                    -                                   -   \n",
       "1                                    -                                   -   \n",
       "2                                    -                                   -   \n",
       "\n",
       "  SERVICE CATEGORY(K-9* ONLY)  NUMBER OF STUDENTS / SEATS FILLED  \\\n",
       "0                           -                               19.0   \n",
       "1                           -                               21.0   \n",
       "2                           -                               17.0   \n",
       "\n",
       "   NUMBER OF SECTIONS  AVERAGE CLASS SIZE  SIZE OF SMALLEST CLASS  \\\n",
       "0                 1.0                19.0                    19.0   \n",
       "1                 1.0                21.0                    21.0   \n",
       "2                 1.0                17.0                    17.0   \n",
       "\n",
       "   SIZE OF LARGEST CLASS DATA SOURCE  SCHOOLWIDE PUPIL-TEACHER RATIO  \\\n",
       "0                   19.0         ATS                             NaN   \n",
       "1                   21.0         ATS                             NaN   \n",
       "2                   17.0         ATS                             NaN   \n",
       "\n",
       "  padded_csd     DBN  \n",
       "0         01  01M015  \n",
       "1         01  01M015  \n",
       "2         01  01M015  "
      ]
     },
     "execution_count": 8,
     "metadata": {},
     "output_type": "execute_result"
    }
   ],
   "source": [
    "data['class_size'].head(3)"
   ]
  },
  {
   "cell_type": "code",
   "execution_count": 9,
   "metadata": {},
   "outputs": [
    {
     "data": {
      "text/plain": [
       "09-12      10644\n",
       "MS Core     4762\n",
       "0K-09       1384\n",
       "0K          1237\n",
       "01          1185\n",
       "02          1167\n",
       "03          1143\n",
       "04          1140\n",
       "05          1086\n",
       "06           846\n",
       "07           778\n",
       "08           735\n",
       "09            20\n",
       "Name: GRADE , dtype: int64"
      ]
     },
     "execution_count": 9,
     "metadata": {},
     "output_type": "execute_result"
    }
   ],
   "source": [
    "data['class_size'].iloc[:,4].value_counts()\n",
    "#We are only interested in 09-12 Grades."
   ]
  },
  {
   "cell_type": "code",
   "execution_count": 10,
   "metadata": {},
   "outputs": [
    {
     "data": {
      "text/plain": [
       "GEN ED     14545\n",
       "CTT         7460\n",
       "SPEC ED     3653\n",
       "G&T          469\n",
       "Name: PROGRAM TYPE, dtype: int64"
      ]
     },
     "execution_count": 10,
     "metadata": {},
     "output_type": "execute_result"
    }
   ],
   "source": [
    "data['class_size'].iloc[:,5].value_counts()\n",
    "\n",
    "# There are different program types for schools. Since the majority of the programs are GEN ED, let's only focus on that."
   ]
  },
  {
   "cell_type": "code",
   "execution_count": 11,
   "metadata": {},
   "outputs": [
    {
     "data": {
      "text/html": [
       "<div>\n",
       "<style>\n",
       "    .dataframe thead tr:only-child th {\n",
       "        text-align: right;\n",
       "    }\n",
       "\n",
       "    .dataframe thead th {\n",
       "        text-align: left;\n",
       "    }\n",
       "\n",
       "    .dataframe tbody tr th {\n",
       "        vertical-align: top;\n",
       "    }\n",
       "</style>\n",
       "<table border=\"1\" class=\"dataframe\">\n",
       "  <thead>\n",
       "    <tr style=\"text-align: right;\">\n",
       "      <th></th>\n",
       "      <th>CSD</th>\n",
       "      <th>BOROUGH</th>\n",
       "      <th>SCHOOL CODE</th>\n",
       "      <th>SCHOOL NAME</th>\n",
       "      <th>GRADE</th>\n",
       "      <th>PROGRAM TYPE</th>\n",
       "      <th>CORE SUBJECT (MS CORE and 9-12 ONLY)</th>\n",
       "      <th>CORE COURSE (MS CORE and 9-12 ONLY)</th>\n",
       "      <th>SERVICE CATEGORY(K-9* ONLY)</th>\n",
       "      <th>NUMBER OF STUDENTS / SEATS FILLED</th>\n",
       "      <th>NUMBER OF SECTIONS</th>\n",
       "      <th>AVERAGE CLASS SIZE</th>\n",
       "      <th>SIZE OF SMALLEST CLASS</th>\n",
       "      <th>SIZE OF LARGEST CLASS</th>\n",
       "      <th>DATA SOURCE</th>\n",
       "      <th>SCHOOLWIDE PUPIL-TEACHER RATIO</th>\n",
       "      <th>padded_csd</th>\n",
       "      <th>DBN</th>\n",
       "    </tr>\n",
       "  </thead>\n",
       "  <tbody>\n",
       "    <tr>\n",
       "      <th>225</th>\n",
       "      <td>1</td>\n",
       "      <td>M</td>\n",
       "      <td>M292</td>\n",
       "      <td>Henry Street School for International Studies</td>\n",
       "      <td>09-12</td>\n",
       "      <td>GEN ED</td>\n",
       "      <td>ENGLISH</td>\n",
       "      <td>English 9</td>\n",
       "      <td>-</td>\n",
       "      <td>63.0</td>\n",
       "      <td>3.0</td>\n",
       "      <td>21.0</td>\n",
       "      <td>19.0</td>\n",
       "      <td>25.0</td>\n",
       "      <td>STARS</td>\n",
       "      <td>NaN</td>\n",
       "      <td>01</td>\n",
       "      <td>01M292</td>\n",
       "    </tr>\n",
       "    <tr>\n",
       "      <th>226</th>\n",
       "      <td>1</td>\n",
       "      <td>M</td>\n",
       "      <td>M292</td>\n",
       "      <td>Henry Street School for International Studies</td>\n",
       "      <td>09-12</td>\n",
       "      <td>GEN ED</td>\n",
       "      <td>ENGLISH</td>\n",
       "      <td>English 10</td>\n",
       "      <td>-</td>\n",
       "      <td>79.0</td>\n",
       "      <td>3.0</td>\n",
       "      <td>26.3</td>\n",
       "      <td>24.0</td>\n",
       "      <td>31.0</td>\n",
       "      <td>STARS</td>\n",
       "      <td>NaN</td>\n",
       "      <td>01</td>\n",
       "      <td>01M292</td>\n",
       "    </tr>\n",
       "    <tr>\n",
       "      <th>227</th>\n",
       "      <td>1</td>\n",
       "      <td>M</td>\n",
       "      <td>M292</td>\n",
       "      <td>Henry Street School for International Studies</td>\n",
       "      <td>09-12</td>\n",
       "      <td>GEN ED</td>\n",
       "      <td>ENGLISH</td>\n",
       "      <td>English 11</td>\n",
       "      <td>-</td>\n",
       "      <td>38.0</td>\n",
       "      <td>2.0</td>\n",
       "      <td>19.0</td>\n",
       "      <td>16.0</td>\n",
       "      <td>22.0</td>\n",
       "      <td>STARS</td>\n",
       "      <td>NaN</td>\n",
       "      <td>01</td>\n",
       "      <td>01M292</td>\n",
       "    </tr>\n",
       "  </tbody>\n",
       "</table>\n",
       "</div>"
      ],
      "text/plain": [
       "     CSD BOROUGH SCHOOL CODE                                    SCHOOL NAME  \\\n",
       "225    1       M        M292  Henry Street School for International Studies   \n",
       "226    1       M        M292  Henry Street School for International Studies   \n",
       "227    1       M        M292  Henry Street School for International Studies   \n",
       "\n",
       "    GRADE  PROGRAM TYPE CORE SUBJECT (MS CORE and 9-12 ONLY)  \\\n",
       "225  09-12       GEN ED                              ENGLISH   \n",
       "226  09-12       GEN ED                              ENGLISH   \n",
       "227  09-12       GEN ED                              ENGLISH   \n",
       "\n",
       "    CORE COURSE (MS CORE and 9-12 ONLY) SERVICE CATEGORY(K-9* ONLY)  \\\n",
       "225                           English 9                           -   \n",
       "226                          English 10                           -   \n",
       "227                          English 11                           -   \n",
       "\n",
       "     NUMBER OF STUDENTS / SEATS FILLED  NUMBER OF SECTIONS  \\\n",
       "225                               63.0                 3.0   \n",
       "226                               79.0                 3.0   \n",
       "227                               38.0                 2.0   \n",
       "\n",
       "     AVERAGE CLASS SIZE  SIZE OF SMALLEST CLASS  SIZE OF LARGEST CLASS  \\\n",
       "225                21.0                    19.0                   25.0   \n",
       "226                26.3                    24.0                   31.0   \n",
       "227                19.0                    16.0                   22.0   \n",
       "\n",
       "    DATA SOURCE  SCHOOLWIDE PUPIL-TEACHER RATIO padded_csd     DBN  \n",
       "225       STARS                             NaN         01  01M292  \n",
       "226       STARS                             NaN         01  01M292  \n",
       "227       STARS                             NaN         01  01M292  "
      ]
     },
     "execution_count": 11,
     "metadata": {},
     "output_type": "execute_result"
    }
   ],
   "source": [
    "class_size=data[\"class_size\"]\n",
    "nine_12=data[\"class_size\"].iloc[:,4]=='09-12'\n",
    "class_size=class_size[nine_12]\n",
    "class_size=class_size[class_size['PROGRAM TYPE']=='GEN ED']\n",
    "class_size.head(3)"
   ]
  },
  {
   "cell_type": "markdown",
   "metadata": {},
   "source": [
    "Much better, but still, we see that the datarecords for some DBNs are repetitive! (scroll to the right). IT's due to difference in core courses. For this reason, we will use groupby() method of pd.dataframe to group DBNs by their unique values, then get the average of class size etc among those groups."
   ]
  },
  {
   "cell_type": "code",
   "execution_count": 12,
   "metadata": {},
   "outputs": [
    {
     "data": {
      "text/html": [
       "<div>\n",
       "<style>\n",
       "    .dataframe thead tr:only-child th {\n",
       "        text-align: right;\n",
       "    }\n",
       "\n",
       "    .dataframe thead th {\n",
       "        text-align: left;\n",
       "    }\n",
       "\n",
       "    .dataframe tbody tr th {\n",
       "        vertical-align: top;\n",
       "    }\n",
       "</style>\n",
       "<table border=\"1\" class=\"dataframe\">\n",
       "  <thead>\n",
       "    <tr style=\"text-align: right;\">\n",
       "      <th></th>\n",
       "      <th>DBN</th>\n",
       "      <th>CSD</th>\n",
       "      <th>NUMBER OF STUDENTS / SEATS FILLED</th>\n",
       "      <th>NUMBER OF SECTIONS</th>\n",
       "      <th>AVERAGE CLASS SIZE</th>\n",
       "      <th>SIZE OF SMALLEST CLASS</th>\n",
       "      <th>SIZE OF LARGEST CLASS</th>\n",
       "      <th>SCHOOLWIDE PUPIL-TEACHER RATIO</th>\n",
       "    </tr>\n",
       "  </thead>\n",
       "  <tbody>\n",
       "    <tr>\n",
       "      <th>0</th>\n",
       "      <td>01M292</td>\n",
       "      <td>1</td>\n",
       "      <td>88.0000</td>\n",
       "      <td>4.000000</td>\n",
       "      <td>22.564286</td>\n",
       "      <td>18.50</td>\n",
       "      <td>26.571429</td>\n",
       "      <td>NaN</td>\n",
       "    </tr>\n",
       "    <tr>\n",
       "      <th>1</th>\n",
       "      <td>01M332</td>\n",
       "      <td>1</td>\n",
       "      <td>46.0000</td>\n",
       "      <td>2.000000</td>\n",
       "      <td>22.000000</td>\n",
       "      <td>21.00</td>\n",
       "      <td>23.500000</td>\n",
       "      <td>NaN</td>\n",
       "    </tr>\n",
       "    <tr>\n",
       "      <th>2</th>\n",
       "      <td>01M378</td>\n",
       "      <td>1</td>\n",
       "      <td>33.0000</td>\n",
       "      <td>1.000000</td>\n",
       "      <td>33.000000</td>\n",
       "      <td>33.00</td>\n",
       "      <td>33.000000</td>\n",
       "      <td>NaN</td>\n",
       "    </tr>\n",
       "    <tr>\n",
       "      <th>3</th>\n",
       "      <td>01M448</td>\n",
       "      <td>1</td>\n",
       "      <td>105.6875</td>\n",
       "      <td>4.750000</td>\n",
       "      <td>22.231250</td>\n",
       "      <td>18.25</td>\n",
       "      <td>27.062500</td>\n",
       "      <td>NaN</td>\n",
       "    </tr>\n",
       "    <tr>\n",
       "      <th>4</th>\n",
       "      <td>01M450</td>\n",
       "      <td>1</td>\n",
       "      <td>57.6000</td>\n",
       "      <td>2.733333</td>\n",
       "      <td>21.200000</td>\n",
       "      <td>19.40</td>\n",
       "      <td>22.866667</td>\n",
       "      <td>NaN</td>\n",
       "    </tr>\n",
       "  </tbody>\n",
       "</table>\n",
       "</div>"
      ],
      "text/plain": [
       "      DBN  CSD  NUMBER OF STUDENTS / SEATS FILLED  NUMBER OF SECTIONS  \\\n",
       "0  01M292    1                            88.0000            4.000000   \n",
       "1  01M332    1                            46.0000            2.000000   \n",
       "2  01M378    1                            33.0000            1.000000   \n",
       "3  01M448    1                           105.6875            4.750000   \n",
       "4  01M450    1                            57.6000            2.733333   \n",
       "\n",
       "   AVERAGE CLASS SIZE  SIZE OF SMALLEST CLASS  SIZE OF LARGEST CLASS  \\\n",
       "0           22.564286                   18.50              26.571429   \n",
       "1           22.000000                   21.00              23.500000   \n",
       "2           33.000000                   33.00              33.000000   \n",
       "3           22.231250                   18.25              27.062500   \n",
       "4           21.200000                   19.40              22.866667   \n",
       "\n",
       "   SCHOOLWIDE PUPIL-TEACHER RATIO  \n",
       "0                             NaN  \n",
       "1                             NaN  \n",
       "2                             NaN  \n",
       "3                             NaN  \n",
       "4                             NaN  "
      ]
     },
     "execution_count": 12,
     "metadata": {},
     "output_type": "execute_result"
    }
   ],
   "source": [
    "import numpy\n",
    "class_size=class_size.groupby('DBN').agg(numpy.mean) #groupby DBN, then use agg to get the mean of the each group.\n",
    "class_size.reset_index(inplace=True) #after groupby, the indexes will be replaced by new grouping, we want to reset it.\n",
    "data['class_size']=class_size \n",
    "data[\"class_size\"].head()"
   ]
  },
  {
   "cell_type": "markdown",
   "metadata": {},
   "source": [
    "Now that we have condensed the class size, let's condense demographics as well."
   ]
  },
  {
   "cell_type": "code",
   "execution_count": 13,
   "metadata": {},
   "outputs": [
    {
     "data": {
      "text/html": [
       "<div>\n",
       "<style>\n",
       "    .dataframe thead tr:only-child th {\n",
       "        text-align: right;\n",
       "    }\n",
       "\n",
       "    .dataframe thead th {\n",
       "        text-align: left;\n",
       "    }\n",
       "\n",
       "    .dataframe tbody tr th {\n",
       "        vertical-align: top;\n",
       "    }\n",
       "</style>\n",
       "<table border=\"1\" class=\"dataframe\">\n",
       "  <thead>\n",
       "    <tr style=\"text-align: right;\">\n",
       "      <th></th>\n",
       "      <th>DBN</th>\n",
       "      <th>Name</th>\n",
       "      <th>schoolyear</th>\n",
       "      <th>fl_percent</th>\n",
       "      <th>frl_percent</th>\n",
       "      <th>total_enrollment</th>\n",
       "      <th>prek</th>\n",
       "      <th>k</th>\n",
       "      <th>grade1</th>\n",
       "      <th>grade2</th>\n",
       "      <th>...</th>\n",
       "      <th>black_num</th>\n",
       "      <th>black_per</th>\n",
       "      <th>hispanic_num</th>\n",
       "      <th>hispanic_per</th>\n",
       "      <th>white_num</th>\n",
       "      <th>white_per</th>\n",
       "      <th>male_num</th>\n",
       "      <th>male_per</th>\n",
       "      <th>female_num</th>\n",
       "      <th>female_per</th>\n",
       "    </tr>\n",
       "  </thead>\n",
       "  <tbody>\n",
       "    <tr>\n",
       "      <th>0</th>\n",
       "      <td>01M015</td>\n",
       "      <td>P.S. 015 ROBERTO CLEMENTE</td>\n",
       "      <td>20052006</td>\n",
       "      <td>89.4</td>\n",
       "      <td>NaN</td>\n",
       "      <td>281</td>\n",
       "      <td>15</td>\n",
       "      <td>36</td>\n",
       "      <td>40</td>\n",
       "      <td>33</td>\n",
       "      <td>...</td>\n",
       "      <td>74</td>\n",
       "      <td>26.3</td>\n",
       "      <td>189</td>\n",
       "      <td>67.3</td>\n",
       "      <td>5</td>\n",
       "      <td>1.8</td>\n",
       "      <td>158.0</td>\n",
       "      <td>56.2</td>\n",
       "      <td>123.0</td>\n",
       "      <td>43.8</td>\n",
       "    </tr>\n",
       "    <tr>\n",
       "      <th>1</th>\n",
       "      <td>01M015</td>\n",
       "      <td>P.S. 015 ROBERTO CLEMENTE</td>\n",
       "      <td>20062007</td>\n",
       "      <td>89.4</td>\n",
       "      <td>NaN</td>\n",
       "      <td>243</td>\n",
       "      <td>15</td>\n",
       "      <td>29</td>\n",
       "      <td>39</td>\n",
       "      <td>38</td>\n",
       "      <td>...</td>\n",
       "      <td>68</td>\n",
       "      <td>28.0</td>\n",
       "      <td>153</td>\n",
       "      <td>63.0</td>\n",
       "      <td>4</td>\n",
       "      <td>1.6</td>\n",
       "      <td>140.0</td>\n",
       "      <td>57.6</td>\n",
       "      <td>103.0</td>\n",
       "      <td>42.4</td>\n",
       "    </tr>\n",
       "    <tr>\n",
       "      <th>2</th>\n",
       "      <td>01M015</td>\n",
       "      <td>P.S. 015 ROBERTO CLEMENTE</td>\n",
       "      <td>20072008</td>\n",
       "      <td>89.4</td>\n",
       "      <td>NaN</td>\n",
       "      <td>261</td>\n",
       "      <td>18</td>\n",
       "      <td>43</td>\n",
       "      <td>39</td>\n",
       "      <td>36</td>\n",
       "      <td>...</td>\n",
       "      <td>77</td>\n",
       "      <td>29.5</td>\n",
       "      <td>157</td>\n",
       "      <td>60.2</td>\n",
       "      <td>7</td>\n",
       "      <td>2.7</td>\n",
       "      <td>143.0</td>\n",
       "      <td>54.8</td>\n",
       "      <td>118.0</td>\n",
       "      <td>45.2</td>\n",
       "    </tr>\n",
       "  </tbody>\n",
       "</table>\n",
       "<p>3 rows × 38 columns</p>\n",
       "</div>"
      ],
      "text/plain": [
       "      DBN                       Name  schoolyear fl_percent  frl_percent  \\\n",
       "0  01M015  P.S. 015 ROBERTO CLEMENTE    20052006       89.4          NaN   \n",
       "1  01M015  P.S. 015 ROBERTO CLEMENTE    20062007       89.4          NaN   \n",
       "2  01M015  P.S. 015 ROBERTO CLEMENTE    20072008       89.4          NaN   \n",
       "\n",
       "   total_enrollment prek   k grade1 grade2    ...     black_num black_per  \\\n",
       "0               281   15  36     40     33    ...            74      26.3   \n",
       "1               243   15  29     39     38    ...            68      28.0   \n",
       "2               261   18  43     39     36    ...            77      29.5   \n",
       "\n",
       "  hispanic_num hispanic_per white_num white_per male_num male_per female_num  \\\n",
       "0          189         67.3         5       1.8    158.0     56.2      123.0   \n",
       "1          153         63.0         4       1.6    140.0     57.6      103.0   \n",
       "2          157         60.2         7       2.7    143.0     54.8      118.0   \n",
       "\n",
       "  female_per  \n",
       "0       43.8  \n",
       "1       42.4  \n",
       "2       45.2  \n",
       "\n",
       "[3 rows x 38 columns]"
      ]
     },
     "execution_count": 13,
     "metadata": {},
     "output_type": "execute_result"
    }
   ],
   "source": [
    "data['demographics'].head(3)"
   ]
  },
  {
   "cell_type": "code",
   "execution_count": 14,
   "metadata": {
    "collapsed": true
   },
   "outputs": [],
   "source": [
    "#seems like we have data drom 2005. We only need the 20112012 data.\n",
    "data['demographics']=data['demographics'][data['demographics']['schoolyear']==20112012] #schoolyear is an integer"
   ]
  },
  {
   "cell_type": "code",
   "execution_count": 15,
   "metadata": {
    "collapsed": true
   },
   "outputs": [],
   "source": [
    "# we will continue condending datasets. This time graduation.\n",
    "data['graduation']=data['graduation'][data['graduation']['Cohort']=='2006']\n",
    "data[\"graduation\"] = data[\"graduation\"][data[\"graduation\"][\"Demographic\"] == \"Total Cohort\"]"
   ]
  },
  {
   "cell_type": "code",
   "execution_count": 16,
   "metadata": {},
   "outputs": [
    {
     "data": {
      "text/html": [
       "<div>\n",
       "<style>\n",
       "    .dataframe thead tr:only-child th {\n",
       "        text-align: right;\n",
       "    }\n",
       "\n",
       "    .dataframe thead th {\n",
       "        text-align: left;\n",
       "    }\n",
       "\n",
       "    .dataframe tbody tr th {\n",
       "        vertical-align: top;\n",
       "    }\n",
       "</style>\n",
       "<table border=\"1\" class=\"dataframe\">\n",
       "  <thead>\n",
       "    <tr style=\"text-align: right;\">\n",
       "      <th></th>\n",
       "      <th>DBN</th>\n",
       "      <th>SchoolName</th>\n",
       "      <th>AP Test Takers</th>\n",
       "      <th>Total Exams Taken</th>\n",
       "      <th>Number of Exams with scores 3 4 or 5</th>\n",
       "    </tr>\n",
       "  </thead>\n",
       "  <tbody>\n",
       "    <tr>\n",
       "      <th>0</th>\n",
       "      <td>01M448</td>\n",
       "      <td>UNIVERSITY NEIGHBORHOOD H.S.</td>\n",
       "      <td>39</td>\n",
       "      <td>49</td>\n",
       "      <td>10</td>\n",
       "    </tr>\n",
       "    <tr>\n",
       "      <th>1</th>\n",
       "      <td>01M450</td>\n",
       "      <td>EAST SIDE COMMUNITY HS</td>\n",
       "      <td>19</td>\n",
       "      <td>21</td>\n",
       "      <td>s</td>\n",
       "    </tr>\n",
       "    <tr>\n",
       "      <th>2</th>\n",
       "      <td>01M515</td>\n",
       "      <td>LOWER EASTSIDE PREP</td>\n",
       "      <td>24</td>\n",
       "      <td>26</td>\n",
       "      <td>24</td>\n",
       "    </tr>\n",
       "    <tr>\n",
       "      <th>3</th>\n",
       "      <td>01M539</td>\n",
       "      <td>NEW EXPLORATIONS SCI,TECH,MATH</td>\n",
       "      <td>255</td>\n",
       "      <td>377</td>\n",
       "      <td>191</td>\n",
       "    </tr>\n",
       "    <tr>\n",
       "      <th>4</th>\n",
       "      <td>02M296</td>\n",
       "      <td>High School of Hospitality Management</td>\n",
       "      <td>s</td>\n",
       "      <td>s</td>\n",
       "      <td>s</td>\n",
       "    </tr>\n",
       "  </tbody>\n",
       "</table>\n",
       "</div>"
      ],
      "text/plain": [
       "      DBN                             SchoolName AP Test Takers   \\\n",
       "0  01M448           UNIVERSITY NEIGHBORHOOD H.S.              39   \n",
       "1  01M450                 EAST SIDE COMMUNITY HS              19   \n",
       "2  01M515                    LOWER EASTSIDE PREP              24   \n",
       "3  01M539         NEW EXPLORATIONS SCI,TECH,MATH             255   \n",
       "4  02M296  High School of Hospitality Management               s   \n",
       "\n",
       "  Total Exams Taken Number of Exams with scores 3 4 or 5  \n",
       "0                49                                   10  \n",
       "1                21                                    s  \n",
       "2                26                                   24  \n",
       "3               377                                  191  \n",
       "4                 s                                    s  "
      ]
     },
     "execution_count": 16,
     "metadata": {},
     "output_type": "execute_result"
    }
   ],
   "source": [
    "data['ap_2010'].head()"
   ]
  },
  {
   "cell_type": "code",
   "execution_count": 17,
   "metadata": {},
   "outputs": [
    {
     "data": {
      "text/plain": [
       "DBN                                      object\n",
       "SchoolName                               object\n",
       "AP Test Takers                          float64\n",
       "Total Exams Taken                       float64\n",
       "Number of Exams with scores 3 4 or 5    float64\n",
       "dtype: object"
      ]
     },
     "execution_count": 17,
     "metadata": {},
     "output_type": "execute_result"
    }
   ],
   "source": [
    "#let's convert the ap test values to integers.\n",
    "cols = ['AP Test Takers ', 'Total Exams Taken', 'Number of Exams with scores 3 4 or 5']\n",
    "for c in cols:\n",
    "    data['ap_2010'][c]=pd.to_numeric(data['ap_2010'][c],errors=\"coerce\")\n",
    "\n",
    "data['ap_2010'].dtypes"
   ]
  },
  {
   "cell_type": "markdown",
   "metadata": {},
   "source": [
    "### Now Let's Merge!"
   ]
  },
  {
   "cell_type": "code",
   "execution_count": 18,
   "metadata": {},
   "outputs": [
    {
     "name": "stdout",
     "output_type": "stream",
     "text": [
      "(478, 7)\n",
      "(479, 33)\n",
      "(363, 165)\n"
     ]
    }
   ],
   "source": [
    "combined = data[\"sat_results\"]\n",
    "print(combined.shape)\n",
    "\n",
    "combined=combined.merge(data[\"ap_2010\"],on=\"DBN\",how=\"left\")\n",
    "combined=combined.merge(data[\"graduation\"],on=\"DBN\",how=\"left\")\n",
    "print(combined.shape)\n",
    "\n",
    "to_merge = [\"class_size\", \"demographics\", \"survey\", \"hs_directory\"]\n",
    "\n",
    "for m in to_merge:\n",
    "    combined = combined.merge(data[m], on=\"DBN\", how=\"inner\")\n",
    "print(combined.shape)"
   ]
  },
  {
   "cell_type": "markdown",
   "metadata": {},
   "source": [
    "The last inner join dropped 116 rows. But since we want to focus on highly correlated data, we dont need to look at missing DBNs.\n",
    "Moreover, the left join created some null values in the columns where DBNs didnt existed. We decide to fill them with the average value for now. There are various methods to deal with missing data."
   ]
  },
  {
   "cell_type": "code",
   "execution_count": 19,
   "metadata": {
    "collapsed": true
   },
   "outputs": [],
   "source": [
    "means=combined.mean()\n",
    "combined=combined.fillna(means)\n",
    "combined=combined.fillna(0) #this is for if the entire column is null, we replace its values to 0."
   ]
  },
  {
   "cell_type": "code",
   "execution_count": 36,
   "metadata": {
    "collapsed": true
   },
   "outputs": [],
   "source": [
    "#This function will allow us to get the first two characters of the DBN and save it as school dictrict\n",
    "def district(dbn):\n",
    "    return dbn[0:2] #when applied to a string, it will return the first two characters.\n",
    "combined[\"school_dist\"]=combined[\"DBN\"].apply(district)"
   ]
  },
  {
   "cell_type": "markdown",
   "metadata": {},
   "source": [
    "#### Data Visualization and Analysis\n",
    "We'd like to know if any of the columns in combined datset is correlated with our target value, which is sat_score. One way to figure it out is through calculating the correlation coefficients."
   ]
  },
  {
   "cell_type": "code",
   "execution_count": 21,
   "metadata": {
    "scrolled": true
   },
   "outputs": [
    {
     "data": {
      "text/plain": [
       "(array([ 0. ,  0.2,  0.4,  0.6,  0.8,  1. ]),\n",
       " <a list of 6 Text xticklabel objects>)"
      ]
     },
     "execution_count": 21,
     "metadata": {},
     "output_type": "execute_result"
    },
    {
     "data": {
      "text/plain": [
       "<matplotlib.axes._subplots.AxesSubplot at 0x1a10a65cf8>"
      ]
     },
     "execution_count": 21,
     "metadata": {},
     "output_type": "execute_result"
    },
    {
     "data": {
      "image/png": "[encoded data removed]",
      "text/plain": [
       "<matplotlib.figure.Figure at 0x1a10a694e0>"
      ]
     },
     "metadata": {},
     "output_type": "display_data"
    }
   ],
   "source": [
    "corrs=combined.corr() #pd.dataframe.corr() generates the matrix of correlation coefficients.\n",
    "corrs=corrs['sat_score'] #we are interested in correlation with sat_score.\n",
    "corrs=corrs.fillna(0) #replacing the NA values with zeros. This is just for the representation purposes.\n",
    "corrs=corrs.sort_values(ascending=False)\n",
    "fig,ax=plt.subplots(figsize=(14,4))\n",
    "plt.xticks(rotation=90)\n",
    "sns.barplot(x=corrs.index,y=corrs.values)"
   ]
  },
  {
   "cell_type": "markdown",
   "metadata": {
    "collapsed": true
   },
   "source": [
    "Obviously, First three scores have high correlation with sat_score. Let's for instance explore the total_enrollment and sat_scores in further detail."
   ]
  },
  {
   "cell_type": "code",
   "execution_count": 22,
   "metadata": {},
   "outputs": [
    {
     "data": {
      "text/plain": [
       "<seaborn.axisgrid.FacetGrid at 0x1a10a62da0>"
      ]
     },
     "execution_count": 22,
     "metadata": {},
     "output_type": "execute_result"
    },
    {
     "data": {
      "image/png": "[encoded data removed]",
      "text/plain": [
       "<matplotlib.figure.Figure at 0x1a10a62ba8>"
      ]
     },
     "metadata": {},
     "output_type": "display_data"
    }
   ],
   "source": [
    "sns.lmplot(x='total_enrollment', y='sat_score',data=combined)"
   ]
  },
  {
   "cell_type": "markdown",
   "metadata": {},
   "source": [
    "As can be seen, there is a cluster od data where both sat and enrollment are low."
   ]
  },
  {
   "cell_type": "code",
   "execution_count": 23,
   "metadata": {},
   "outputs": [
    {
     "data": {
      "text/html": [
       "<div>\n",
       "<style>\n",
       "    .dataframe thead tr:only-child th {\n",
       "        text-align: right;\n",
       "    }\n",
       "\n",
       "    .dataframe thead th {\n",
       "        text-align: left;\n",
       "    }\n",
       "\n",
       "    .dataframe tbody tr th {\n",
       "        vertical-align: top;\n",
       "    }\n",
       "</style>\n",
       "<table border=\"1\" class=\"dataframe\">\n",
       "  <thead>\n",
       "    <tr style=\"text-align: right;\">\n",
       "      <th></th>\n",
       "      <th>DBN</th>\n",
       "      <th>SCHOOL NAME</th>\n",
       "      <th>Num of SAT Test Takers</th>\n",
       "      <th>SAT Critical Reading Avg. Score</th>\n",
       "      <th>SAT Math Avg. Score</th>\n",
       "      <th>SAT Writing Avg. Score</th>\n",
       "      <th>sat_score</th>\n",
       "      <th>SchoolName</th>\n",
       "      <th>AP Test Takers</th>\n",
       "      <th>Total Exams Taken</th>\n",
       "      <th>...</th>\n",
       "      <th>Location 1</th>\n",
       "      <th>Community Board</th>\n",
       "      <th>Council District</th>\n",
       "      <th>Census Tract</th>\n",
       "      <th>BIN</th>\n",
       "      <th>BBL</th>\n",
       "      <th>NTA</th>\n",
       "      <th>lat</th>\n",
       "      <th>lon</th>\n",
       "      <th>school_dist</th>\n",
       "    </tr>\n",
       "  </thead>\n",
       "  <tbody>\n",
       "    <tr>\n",
       "      <th>91</th>\n",
       "      <td>07X334</td>\n",
       "      <td>INTERNATIONAL COMMUNITY HIGH SCHOOL</td>\n",
       "      <td>34</td>\n",
       "      <td>310.0</td>\n",
       "      <td>324.0</td>\n",
       "      <td>311.0</td>\n",
       "      <td>945.0</td>\n",
       "      <td>0</td>\n",
       "      <td>129.028846</td>\n",
       "      <td>197.038462</td>\n",
       "      <td>...</td>\n",
       "      <td>345 Brook Avenue\\nBronx, NY 10454\\n(40.8100361...</td>\n",
       "      <td>1.0</td>\n",
       "      <td>8.0</td>\n",
       "      <td>41.0</td>\n",
       "      <td>2000391.0</td>\n",
       "      <td>2.022860e+09</td>\n",
       "      <td>Mott Haven-Port Morris                        ...</td>\n",
       "      <td>40.810036</td>\n",
       "      <td>-73.917812</td>\n",
       "      <td>0</td>\n",
       "    </tr>\n",
       "    <tr>\n",
       "      <th>125</th>\n",
       "      <td>09X365</td>\n",
       "      <td>ACADEMY FOR LANGUAGE AND TECHNOLOGY</td>\n",
       "      <td>54</td>\n",
       "      <td>315.0</td>\n",
       "      <td>339.0</td>\n",
       "      <td>297.0</td>\n",
       "      <td>951.0</td>\n",
       "      <td>Academy for Language and Technology</td>\n",
       "      <td>20.000000</td>\n",
       "      <td>20.000000</td>\n",
       "      <td>...</td>\n",
       "      <td>1700 Macombs Road\\nBronx, NY 10453\\n(40.849102...</td>\n",
       "      <td>5.0</td>\n",
       "      <td>14.0</td>\n",
       "      <td>21502.0</td>\n",
       "      <td>2008460.0</td>\n",
       "      <td>2.028660e+09</td>\n",
       "      <td>University Heights-Morris Heights             ...</td>\n",
       "      <td>40.849102</td>\n",
       "      <td>-73.916088</td>\n",
       "      <td>0</td>\n",
       "    </tr>\n",
       "    <tr>\n",
       "      <th>126</th>\n",
       "      <td>09X403</td>\n",
       "      <td>BRONX INTERNATIONAL HIGH SCHOOL</td>\n",
       "      <td>49</td>\n",
       "      <td>314.0</td>\n",
       "      <td>312.0</td>\n",
       "      <td>339.0</td>\n",
       "      <td>965.0</td>\n",
       "      <td>0</td>\n",
       "      <td>129.028846</td>\n",
       "      <td>197.038462</td>\n",
       "      <td>...</td>\n",
       "      <td>1110 Boston Road\\nBronx, NY 10456\\n(40.8276026...</td>\n",
       "      <td>3.0</td>\n",
       "      <td>16.0</td>\n",
       "      <td>135.0</td>\n",
       "      <td>2004526.0</td>\n",
       "      <td>2.026340e+09</td>\n",
       "      <td>Morrisania-Melrose                            ...</td>\n",
       "      <td>40.827603</td>\n",
       "      <td>-73.904475</td>\n",
       "      <td>0</td>\n",
       "    </tr>\n",
       "    <tr>\n",
       "      <th>139</th>\n",
       "      <td>10X268</td>\n",
       "      <td>KINGSBRIDGE INTERNATIONAL HIGH SCHOOL</td>\n",
       "      <td>52</td>\n",
       "      <td>304.0</td>\n",
       "      <td>356.0</td>\n",
       "      <td>302.0</td>\n",
       "      <td>962.0</td>\n",
       "      <td>Kingsbridge International High School</td>\n",
       "      <td>32.000000</td>\n",
       "      <td>37.000000</td>\n",
       "      <td>...</td>\n",
       "      <td>2780 Reservoir Avenue\\nBronx, NY 10468\\n(40.87...</td>\n",
       "      <td>7.0</td>\n",
       "      <td>11.0</td>\n",
       "      <td>409.0</td>\n",
       "      <td>2015241.0</td>\n",
       "      <td>2.032470e+09</td>\n",
       "      <td>Van Cortlandt Village                         ...</td>\n",
       "      <td>40.870377</td>\n",
       "      <td>-73.898163</td>\n",
       "      <td>1</td>\n",
       "    </tr>\n",
       "    <tr>\n",
       "      <th>141</th>\n",
       "      <td>10X342</td>\n",
       "      <td>INTERNATIONAL SCHOOL FOR LIBERAL ARTS</td>\n",
       "      <td>49</td>\n",
       "      <td>300.0</td>\n",
       "      <td>333.0</td>\n",
       "      <td>301.0</td>\n",
       "      <td>934.0</td>\n",
       "      <td>International School for Liberal Arts</td>\n",
       "      <td>55.000000</td>\n",
       "      <td>73.000000</td>\n",
       "      <td>...</td>\n",
       "      <td>2780 Reservoir Avenue\\nBronx, NY 10468\\n(40.87...</td>\n",
       "      <td>7.0</td>\n",
       "      <td>11.0</td>\n",
       "      <td>409.0</td>\n",
       "      <td>2015241.0</td>\n",
       "      <td>2.032470e+09</td>\n",
       "      <td>Van Cortlandt Village                         ...</td>\n",
       "      <td>40.870377</td>\n",
       "      <td>-73.898163</td>\n",
       "      <td>1</td>\n",
       "    </tr>\n",
       "  </tbody>\n",
       "</table>\n",
       "<p>5 rows × 166 columns</p>\n",
       "</div>"
      ],
      "text/plain": [
       "        DBN                            SCHOOL NAME Num of SAT Test Takers  \\\n",
       "91   07X334    INTERNATIONAL COMMUNITY HIGH SCHOOL                     34   \n",
       "125  09X365    ACADEMY FOR LANGUAGE AND TECHNOLOGY                     54   \n",
       "126  09X403        BRONX INTERNATIONAL HIGH SCHOOL                     49   \n",
       "139  10X268  KINGSBRIDGE INTERNATIONAL HIGH SCHOOL                     52   \n",
       "141  10X342  INTERNATIONAL SCHOOL FOR LIBERAL ARTS                     49   \n",
       "\n",
       "     SAT Critical Reading Avg. Score  SAT Math Avg. Score  \\\n",
       "91                             310.0                324.0   \n",
       "125                            315.0                339.0   \n",
       "126                            314.0                312.0   \n",
       "139                            304.0                356.0   \n",
       "141                            300.0                333.0   \n",
       "\n",
       "     SAT Writing Avg. Score  sat_score                             SchoolName  \\\n",
       "91                    311.0      945.0                                      0   \n",
       "125                   297.0      951.0    Academy for Language and Technology   \n",
       "126                   339.0      965.0                                      0   \n",
       "139                   302.0      962.0  Kingsbridge International High School   \n",
       "141                   301.0      934.0  International School for Liberal Arts   \n",
       "\n",
       "     AP Test Takers   Total Exams Taken     ...      \\\n",
       "91        129.028846         197.038462     ...       \n",
       "125        20.000000          20.000000     ...       \n",
       "126       129.028846         197.038462     ...       \n",
       "139        32.000000          37.000000     ...       \n",
       "141        55.000000          73.000000     ...       \n",
       "\n",
       "                                            Location 1 Community Board  \\\n",
       "91   345 Brook Avenue\\nBronx, NY 10454\\n(40.8100361...             1.0   \n",
       "125  1700 Macombs Road\\nBronx, NY 10453\\n(40.849102...             5.0   \n",
       "126  1110 Boston Road\\nBronx, NY 10456\\n(40.8276026...             3.0   \n",
       "139  2780 Reservoir Avenue\\nBronx, NY 10468\\n(40.87...             7.0   \n",
       "141  2780 Reservoir Avenue\\nBronx, NY 10468\\n(40.87...             7.0   \n",
       "\n",
       "    Council District Census Tract        BIN           BBL  \\\n",
       "91               8.0         41.0  2000391.0  2.022860e+09   \n",
       "125             14.0      21502.0  2008460.0  2.028660e+09   \n",
       "126             16.0        135.0  2004526.0  2.026340e+09   \n",
       "139             11.0        409.0  2015241.0  2.032470e+09   \n",
       "141             11.0        409.0  2015241.0  2.032470e+09   \n",
       "\n",
       "                                                   NTA        lat        lon  \\\n",
       "91   Mott Haven-Port Morris                        ...  40.810036 -73.917812   \n",
       "125  University Heights-Morris Heights             ...  40.849102 -73.916088   \n",
       "126  Morrisania-Melrose                            ...  40.827603 -73.904475   \n",
       "139  Van Cortlandt Village                         ...  40.870377 -73.898163   \n",
       "141  Van Cortlandt Village                         ...  40.870377 -73.898163   \n",
       "\n",
       "    school_dist  \n",
       "91            0  \n",
       "125           0  \n",
       "126           0  \n",
       "139           1  \n",
       "141           1  \n",
       "\n",
       "[5 rows x 166 columns]"
      ]
     },
     "execution_count": 23,
     "metadata": {},
     "output_type": "execute_result"
    }
   ],
   "source": [
    "low_enroll=combined[combined['total_enrollment']<1000]\n",
    "low_enroll=combined[combined['sat_score']<1000]\n",
    "low_enroll.head()"
   ]
  },
  {
   "cell_type": "markdown",
   "metadata": {},
   "source": [
    "Oh WOW! International schools! Now,let's plot english language learners versus sat results!"
   ]
  },
  {
   "cell_type": "code",
   "execution_count": 24,
   "metadata": {},
   "outputs": [
    {
     "data": {
      "text/plain": [
       "<seaborn.axisgrid.FacetGrid at 0x1a0fc98518>"
      ]
     },
     "execution_count": 24,
     "metadata": {},
     "output_type": "execute_result"
    },
    {
     "data": {
      "image/png": "[encoded data removed]",
      "text/plain": [
       "<matplotlib.figure.Figure at 0x1a0fc98be0>"
      ]
     },
     "metadata": {},
     "output_type": "display_data"
    }
   ],
   "source": [
    "sns.lmplot(x='ell_percent',y='sat_score',data=combined)"
   ]
  },
  {
   "cell_type": "markdown",
   "metadata": {},
   "source": [
    "Now let's figure out a way to plot these schools on the map. We will use Basemap. It enables us to create high quality geographical maps."
   ]
  },
  {
   "cell_type": "code",
   "execution_count": 25,
   "metadata": {},
   "outputs": [
    {
     "data": {
      "text/plain": [
       "<matplotlib.patches.Rectangle at 0x1a10764e80>"
      ]
     },
     "execution_count": 25,
     "metadata": {},
     "output_type": "execute_result"
    },
    {
     "data": {
      "text/plain": [
       "<matplotlib.collections.LineCollection at 0x1a10763048>"
      ]
     },
     "execution_count": 25,
     "metadata": {},
     "output_type": "execute_result"
    },
    {
     "data": {
      "text/plain": [
       "<matplotlib.collections.LineCollection at 0x1a1076bc88>"
      ]
     },
     "execution_count": 25,
     "metadata": {},
     "output_type": "execute_result"
    },
    {
     "data": {
      "text/plain": [
       "<matplotlib.collections.PathCollection at 0x1a104c2ba8>"
      ]
     },
     "execution_count": 25,
     "metadata": {},
     "output_type": "execute_result"
    },
    {
     "data": {
      "image/png": "[encoded data removed]",
      "text/plain": [
       "<matplotlib.figure.Figure at 0x1a0fc788d0>"
      ]
     },
     "metadata": {},
     "output_type": "display_data"
    }
   ],
   "source": [
    "from mpl_toolkits.basemap import Basemap\n",
    "\n",
    "import warnings\n",
    "warnings.filterwarnings(\"ignore\") #my basemap version gave me warnings, I ignored them here becuase I didnt want them to show on the plot.\n",
    "#creating the basemap object here. The coordinations are for corners of the map.\n",
    "fig,ax=plt.subplots(figsize=(8,8))\n",
    "m = Basemap(\n",
    "    projection='merc', \n",
    "    llcrnrlat=40.496044, \n",
    "    urcrnrlat=40.915256, \n",
    "    llcrnrlon=-74.255735, \n",
    "    urcrnrlon=-73.700272,\n",
    "    resolution='i'\n",
    ")\n",
    "\n",
    "m.drawmapboundary(fill_color='#85A6D9')\n",
    "m.drawcoastlines(color='#6D5F47', linewidth=.4)\n",
    "m.drawrivers(color='#6D5F47', linewidth=.4)\n",
    "\n",
    "#scatter method of onject m takes lists as inputs.\n",
    "longtitudes=combined['lon'].tolist()\n",
    "latitudes=combined['lat'].tolist()\n",
    "m.scatter(longtitudes,latitudes,s=20,zorder=2,latlon=True,c=combined[\"ell_percent\"], cmap=\"summer\")\n",
    "#s indicates the size, zorder=2 brings the dots to front, and latlon=True indicates we are not passing axis corrdinates."
   ]
  },
  {
   "cell_type": "markdown",
   "metadata": {},
   "source": [
    "We plotted the schools on the map, and showed the ell_percent by shading the schools on the map. However, we need to make more granular analysis. We'd like to group schools by their disctrict."
   ]
  },
  {
   "cell_type": "code",
   "execution_count": 39,
   "metadata": {},
   "outputs": [
    {
     "data": {
      "text/html": [
       "<div>\n",
       "<style>\n",
       "    .dataframe thead tr:only-child th {\n",
       "        text-align: right;\n",
       "    }\n",
       "\n",
       "    .dataframe thead th {\n",
       "        text-align: left;\n",
       "    }\n",
       "\n",
       "    .dataframe tbody tr th {\n",
       "        vertical-align: top;\n",
       "    }\n",
       "</style>\n",
       "<table border=\"1\" class=\"dataframe\">\n",
       "  <thead>\n",
       "    <tr style=\"text-align: right;\">\n",
       "      <th></th>\n",
       "      <th>school_dist</th>\n",
       "      <th>SAT Critical Reading Avg. Score</th>\n",
       "      <th>SAT Math Avg. Score</th>\n",
       "      <th>SAT Writing Avg. Score</th>\n",
       "      <th>sat_score</th>\n",
       "      <th>AP Test Takers</th>\n",
       "      <th>Total Exams Taken</th>\n",
       "      <th>Number of Exams with scores 3 4 or 5</th>\n",
       "      <th>Total Cohort</th>\n",
       "      <th>CSD</th>\n",
       "      <th>...</th>\n",
       "      <th>priority08</th>\n",
       "      <th>priority09</th>\n",
       "      <th>priority10</th>\n",
       "      <th>Community Board</th>\n",
       "      <th>Council District</th>\n",
       "      <th>Census Tract</th>\n",
       "      <th>BIN</th>\n",
       "      <th>BBL</th>\n",
       "      <th>lat</th>\n",
       "      <th>lon</th>\n",
       "    </tr>\n",
       "  </thead>\n",
       "  <tbody>\n",
       "    <tr>\n",
       "      <th>0</th>\n",
       "      <td>01</td>\n",
       "      <td>441.833333</td>\n",
       "      <td>473.333333</td>\n",
       "      <td>439.333333</td>\n",
       "      <td>1354.500000</td>\n",
       "      <td>116.681090</td>\n",
       "      <td>173.019231</td>\n",
       "      <td>135.800000</td>\n",
       "      <td>93.500000</td>\n",
       "      <td>1.0</td>\n",
       "      <td>...</td>\n",
       "      <td>0.0</td>\n",
       "      <td>0.0</td>\n",
       "      <td>0.0</td>\n",
       "      <td>3.000000</td>\n",
       "      <td>1.500000</td>\n",
       "      <td>1106.833333</td>\n",
       "      <td>1.004144e+06</td>\n",
       "      <td>1.003302e+09</td>\n",
       "      <td>40.719022</td>\n",
       "      <td>-73.982377</td>\n",
       "    </tr>\n",
       "    <tr>\n",
       "      <th>1</th>\n",
       "      <td>02</td>\n",
       "      <td>426.619092</td>\n",
       "      <td>444.186256</td>\n",
       "      <td>424.832836</td>\n",
       "      <td>1295.638184</td>\n",
       "      <td>128.908454</td>\n",
       "      <td>201.516827</td>\n",
       "      <td>157.495833</td>\n",
       "      <td>158.647849</td>\n",
       "      <td>2.0</td>\n",
       "      <td>...</td>\n",
       "      <td>0.0</td>\n",
       "      <td>0.0</td>\n",
       "      <td>0.0</td>\n",
       "      <td>4.204005</td>\n",
       "      <td>2.963296</td>\n",
       "      <td>1132.479744</td>\n",
       "      <td>1.103862e+06</td>\n",
       "      <td>1.070438e+09</td>\n",
       "      <td>40.739699</td>\n",
       "      <td>-73.991386</td>\n",
       "    </tr>\n",
       "    <tr>\n",
       "      <th>2</th>\n",
       "      <td>03</td>\n",
       "      <td>428.529851</td>\n",
       "      <td>437.997512</td>\n",
       "      <td>426.915672</td>\n",
       "      <td>1293.443035</td>\n",
       "      <td>156.183494</td>\n",
       "      <td>244.522436</td>\n",
       "      <td>193.087500</td>\n",
       "      <td>183.384409</td>\n",
       "      <td>3.0</td>\n",
       "      <td>...</td>\n",
       "      <td>0.0</td>\n",
       "      <td>0.0</td>\n",
       "      <td>0.0</td>\n",
       "      <td>7.500000</td>\n",
       "      <td>6.500000</td>\n",
       "      <td>166.666667</td>\n",
       "      <td>1.034931e+06</td>\n",
       "      <td>1.012833e+09</td>\n",
       "      <td>40.781574</td>\n",
       "      <td>-73.977370</td>\n",
       "    </tr>\n",
       "    <tr>\n",
       "      <th>3</th>\n",
       "      <td>04</td>\n",
       "      <td>402.142857</td>\n",
       "      <td>416.285714</td>\n",
       "      <td>405.714286</td>\n",
       "      <td>1224.142857</td>\n",
       "      <td>129.016484</td>\n",
       "      <td>183.879121</td>\n",
       "      <td>151.035714</td>\n",
       "      <td>113.857143</td>\n",
       "      <td>4.0</td>\n",
       "      <td>...</td>\n",
       "      <td>0.0</td>\n",
       "      <td>0.0</td>\n",
       "      <td>0.0</td>\n",
       "      <td>11.000000</td>\n",
       "      <td>8.000000</td>\n",
       "      <td>2637.000000</td>\n",
       "      <td>1.055874e+06</td>\n",
       "      <td>1.016681e+09</td>\n",
       "      <td>40.793449</td>\n",
       "      <td>-73.943215</td>\n",
       "    </tr>\n",
       "    <tr>\n",
       "      <th>4</th>\n",
       "      <td>05</td>\n",
       "      <td>427.159915</td>\n",
       "      <td>438.236674</td>\n",
       "      <td>419.666098</td>\n",
       "      <td>1285.062687</td>\n",
       "      <td>85.722527</td>\n",
       "      <td>115.725275</td>\n",
       "      <td>142.464286</td>\n",
       "      <td>143.677419</td>\n",
       "      <td>5.0</td>\n",
       "      <td>...</td>\n",
       "      <td>0.0</td>\n",
       "      <td>0.0</td>\n",
       "      <td>0.0</td>\n",
       "      <td>9.428571</td>\n",
       "      <td>8.142857</td>\n",
       "      <td>9372.571429</td>\n",
       "      <td>1.063080e+06</td>\n",
       "      <td>1.019721e+09</td>\n",
       "      <td>40.817077</td>\n",
       "      <td>-73.949251</td>\n",
       "    </tr>\n",
       "  </tbody>\n",
       "</table>\n",
       "<p>5 rows × 75 columns</p>\n",
       "</div>"
      ],
      "text/plain": [
       "  school_dist  SAT Critical Reading Avg. Score  SAT Math Avg. Score  \\\n",
       "0          01                       441.833333           473.333333   \n",
       "1          02                       426.619092           444.186256   \n",
       "2          03                       428.529851           437.997512   \n",
       "3          04                       402.142857           416.285714   \n",
       "4          05                       427.159915           438.236674   \n",
       "\n",
       "   SAT Writing Avg. Score    sat_score  AP Test Takers   Total Exams Taken  \\\n",
       "0              439.333333  1354.500000       116.681090         173.019231   \n",
       "1              424.832836  1295.638184       128.908454         201.516827   \n",
       "2              426.915672  1293.443035       156.183494         244.522436   \n",
       "3              405.714286  1224.142857       129.016484         183.879121   \n",
       "4              419.666098  1285.062687        85.722527         115.725275   \n",
       "\n",
       "   Number of Exams with scores 3 4 or 5  Total Cohort  CSD    ...      \\\n",
       "0                            135.800000     93.500000  1.0    ...       \n",
       "1                            157.495833    158.647849  2.0    ...       \n",
       "2                            193.087500    183.384409  3.0    ...       \n",
       "3                            151.035714    113.857143  4.0    ...       \n",
       "4                            142.464286    143.677419  5.0    ...       \n",
       "\n",
       "   priority08  priority09  priority10  Community Board  Council District  \\\n",
       "0         0.0         0.0         0.0         3.000000          1.500000   \n",
       "1         0.0         0.0         0.0         4.204005          2.963296   \n",
       "2         0.0         0.0         0.0         7.500000          6.500000   \n",
       "3         0.0         0.0         0.0        11.000000          8.000000   \n",
       "4         0.0         0.0         0.0         9.428571          8.142857   \n",
       "\n",
       "   Census Tract           BIN           BBL        lat        lon  \n",
       "0   1106.833333  1.004144e+06  1.003302e+09  40.719022 -73.982377  \n",
       "1   1132.479744  1.103862e+06  1.070438e+09  40.739699 -73.991386  \n",
       "2    166.666667  1.034931e+06  1.012833e+09  40.781574 -73.977370  \n",
       "3   2637.000000  1.055874e+06  1.016681e+09  40.793449 -73.943215  \n",
       "4   9372.571429  1.063080e+06  1.019721e+09  40.817077 -73.949251  \n",
       "\n",
       "[5 rows x 75 columns]"
      ]
     },
     "execution_count": 39,
     "metadata": {},
     "output_type": "execute_result"
    }
   ],
   "source": [
    "#not only we take the means of ell_percent, we also take the means of lon and lat here\n",
    "import numpy\n",
    "districts = combined.groupby(\"school_dist\").agg(numpy.mean)\n",
    "districts.reset_index(inplace=True)\n",
    "districts.head()"
   ]
  },
  {
   "cell_type": "markdown",
   "metadata": {},
   "source": [
    "Now let's make the same map plot using the school districts values."
   ]
  },
  {
   "cell_type": "code",
   "execution_count": 40,
   "metadata": {},
   "outputs": [
    {
     "data": {
      "text/plain": [
       "<matplotlib.patches.Rectangle at 0x1a1048a7f0>"
      ]
     },
     "execution_count": 40,
     "metadata": {},
     "output_type": "execute_result"
    },
    {
     "data": {
      "text/plain": [
       "<matplotlib.collections.LineCollection at 0x1a1049d550>"
      ]
     },
     "execution_count": 40,
     "metadata": {},
     "output_type": "execute_result"
    },
    {
     "data": {
      "text/plain": [
       "<matplotlib.collections.LineCollection at 0x1a10491048>"
      ]
     },
     "execution_count": 40,
     "metadata": {},
     "output_type": "execute_result"
    },
    {
     "data": {
      "text/plain": [
       "<matplotlib.collections.PathCollection at 0x1a108014e0>"
      ]
     },
     "execution_count": 40,
     "metadata": {},
     "output_type": "execute_result"
    },
    {
     "data": {
      "image/png": "[encoded data removed]",
      "text/plain": [
       "<matplotlib.figure.Figure at 0x1a1049dc18>"
      ]
     },
     "metadata": {},
     "output_type": "display_data"
    }
   ],
   "source": [
    "fig,ax=plt.subplots(figsize=(8,8))\n",
    "\n",
    "m = Basemap(\n",
    "    projection='merc', \n",
    "    llcrnrlat=40.496044, \n",
    "    urcrnrlat=40.915256, \n",
    "    llcrnrlon=-74.255735, \n",
    "    urcrnrlon=-73.700272,\n",
    "    resolution='i'\n",
    ")\n",
    "\n",
    "m.drawmapboundary(fill_color='#85A6D9')\n",
    "m.drawcoastlines(color='#6D5F47', linewidth=.4)\n",
    "m.drawrivers(color='#6D5F47', linewidth=.4)\n",
    "\n",
    "longtitudes=districts['lon'].tolist()\n",
    "latitudes=districts['lat'].tolist()\n",
    "m.scatter(longtitudes,latitudes,s=100,zorder=2,latlon=True,c=districts[\"ell_percent\"], cmap=\"summer\")"
   ]
  },
  {
   "cell_type": "markdown",
   "metadata": {},
   "source": [
    "### Exploring the survey"
   ]
  },
  {
   "cell_type": "code",
   "execution_count": 47,
   "metadata": {
    "collapsed": true
   },
   "outputs": [],
   "source": [
    "survey_list= ['DBN',\n",
    " 'rr_s',\n",
    " 'rr_t',\n",
    " 'rr_p',\n",
    " 'N_s',\n",
    " 'N_t',\n",
    " 'N_p',\n",
    " 'saf_p_11',\n",
    " 'com_p_11',\n",
    " 'eng_p_11',\n",
    " 'aca_p_11',\n",
    " 'saf_t_11',\n",
    " 'com_t_11',\n",
    " 'eng_t_10',\n",
    " 'aca_t_11',\n",
    " 'saf_s_11',\n",
    " 'com_s_11',\n",
    " 'eng_s_11',\n",
    " 'aca_s_11',\n",
    " 'saf_tot_11',\n",
    " 'com_tot_11',\n",
    " 'eng_tot_11',\n",
    " 'aca_tot_11']"
   ]
  },
  {
   "cell_type": "code",
   "execution_count": 51,
   "metadata": {},
   "outputs": [
    {
     "data": {
      "text/plain": [
       "<matplotlib.axes._subplots.AxesSubplot at 0x1a107fe3c8>"
      ]
     },
     "execution_count": 51,
     "metadata": {},
     "output_type": "execute_result"
    },
    {
     "data": {
      "image/png": "[encoded data removed]",
      "text/plain": [
       "<matplotlib.figure.Figure at 0x1a107fbd30>"
      ]
     },
     "metadata": {},
     "output_type": "display_data"
    }
   ],
   "source": [
    "%matplotlib inline\n",
    "fig,ax=plt.subplots(figsize=(10,5))\n",
    "combined.corr()['sat_score'][survey_list].plot.bar()"
   ]
  },
  {
   "cell_type": "markdown",
   "metadata": {},
   "source": [
    "saf_t_ll and saf_s_ll has a lot correlation with sat scores. These fields represet how students care about safety. aca_s_11 indicates how students percieve academic standars.\n",
    "\n",
    "Now let's explore these relationships in further detail."
   ]
  },
  {
   "cell_type": "code",
   "execution_count": 53,
   "metadata": {},
   "outputs": [
    {
     "data": {
      "text/plain": [
       "<seaborn.axisgrid.FacetGrid at 0x106bf0ef0>"
      ]
     },
     "execution_count": 53,
     "metadata": {},
     "output_type": "execute_result"
    },
    {
     "data": {
      "image/png": "[encoded data removed]",
      "text/plain": [
       "<matplotlib.figure.Figure at 0x106be20b8>"
      ]
     },
     "metadata": {},
     "output_type": "display_data"
    }
   ],
   "source": [
    "sns.lmplot(x='saf_s_11',y='sat_score',data=combined)"
   ]
  },
  {
   "cell_type": "markdown",
   "metadata": {},
   "source": [
    "Those who feel safe at school, get higher SAT scores! No school with safety lower than around 7 has SAT of more than 1500! Let's see the safety scores on a map grouped by the school districts. "
   ]
  },
  {
   "cell_type": "code",
   "execution_count": 56,
   "metadata": {},
   "outputs": [
    {
     "data": {
      "text/plain": [
       "<matplotlib.patches.Rectangle at 0x1a0f7544e0>"
      ]
     },
     "execution_count": 56,
     "metadata": {},
     "output_type": "execute_result"
    },
    {
     "data": {
      "text/plain": [
       "<matplotlib.collections.LineCollection at 0x1a100ac668>"
      ]
     },
     "execution_count": 56,
     "metadata": {},
     "output_type": "execute_result"
    },
    {
     "data": {
      "text/plain": [
       "<matplotlib.collections.LineCollection at 0x1a0fd1ac18>"
      ]
     },
     "execution_count": 56,
     "metadata": {},
     "output_type": "execute_result"
    },
    {
     "data": {
      "text/plain": [
       "[<matplotlib.patches.Polygon at 0x1a0f751128>,\n",
       " <matplotlib.patches.Polygon at 0x1a0f7509e8>,\n",
       " <matplotlib.patches.Polygon at 0x1a0f750588>,\n",
       " <matplotlib.patches.Polygon at 0x1a0f750160>]"
      ]
     },
     "execution_count": 56,
     "metadata": {},
     "output_type": "execute_result"
    },
    {
     "data": {
      "text/plain": [
       "<matplotlib.collections.PathCollection at 0x1a0f74fdd8>"
      ]
     },
     "execution_count": 56,
     "metadata": {},
     "output_type": "execute_result"
    },
    {
     "data": {
      "image/png": "[encoded data removed]",
      "text/plain": [
       "<matplotlib.figure.Figure at 0x1a100b8160>"
      ]
     },
     "metadata": {},
     "output_type": "display_data"
    }
   ],
   "source": [
    "fig,ax=plt.subplots(figsize=(8,8))\n",
    "\n",
    "m = Basemap(\n",
    "    projection='merc', \n",
    "    llcrnrlat=40.496044, \n",
    "    urcrnrlat=40.915256, \n",
    "    llcrnrlon=-74.255735, \n",
    "    urcrnrlon=-73.700272,\n",
    "    resolution='i'\n",
    ")\n",
    "\n",
    "m.drawmapboundary(fill_color='#85A6D9')\n",
    "m.drawcoastlines(color='#6D5F47', linewidth=.4)\n",
    "m.drawrivers(color='#6D5F47', linewidth=.4)\n",
    "m.fillcontinents(color='white',lake_color='#85A6D9') #This will create a white background.\n",
    "\n",
    "longtitudes=districts['lon'].tolist()\n",
    "latitudes=districts['lat'].tolist()\n",
    "m.scatter(longtitudes,latitudes,s=100,zorder=2,latlon=True,c=districts[\"saf_s_11\"], cmap=\"summer\")"
   ]
  },
  {
   "cell_type": "markdown",
   "metadata": {},
   "source": [
    "### Exploring the race"
   ]
  },
  {
   "cell_type": "code",
   "execution_count": 57,
   "metadata": {},
   "outputs": [
    {
     "data": {
      "text/plain": [
       "<matplotlib.axes._subplots.AxesSubplot at 0x1a107d7278>"
      ]
     },
     "execution_count": 57,
     "metadata": {},
     "output_type": "execute_result"
    },
    {
     "data": {
      "image/png": "[encoded data removed]",
      "text/plain": [
       "<matplotlib.figure.Figure at 0x1a100b9278>"
      ]
     },
     "metadata": {},
     "output_type": "display_data"
    }
   ],
   "source": [
    "race=['white_per','asian_per','black_per','hispanic_per']\n",
    "combined.corr()['sat_score'][race].plot.bar()"
   ]
  },
  {
   "cell_type": "markdown",
   "metadata": {},
   "source": [
    "Schools with higher percentage of white and asians have higher SATs. This might be becuase of the amount of funding for those schools."
   ]
  },
  {
   "cell_type": "code",
   "execution_count": 59,
   "metadata": {},
   "outputs": [
    {
     "data": {
      "text/html": [
       "<div>\n",
       "<style>\n",
       "    .dataframe thead tr:only-child th {\n",
       "        text-align: right;\n",
       "    }\n",
       "\n",
       "    .dataframe thead th {\n",
       "        text-align: left;\n",
       "    }\n",
       "\n",
       "    .dataframe tbody tr th {\n",
       "        vertical-align: top;\n",
       "    }\n",
       "</style>\n",
       "<table border=\"1\" class=\"dataframe\">\n",
       "  <thead>\n",
       "    <tr style=\"text-align: right;\">\n",
       "      <th></th>\n",
       "      <th>DBN</th>\n",
       "      <th>SCHOOL NAME</th>\n",
       "      <th>Num of SAT Test Takers</th>\n",
       "      <th>SAT Critical Reading Avg. Score</th>\n",
       "      <th>SAT Math Avg. Score</th>\n",
       "      <th>SAT Writing Avg. Score</th>\n",
       "      <th>sat_score</th>\n",
       "      <th>SchoolName</th>\n",
       "      <th>AP Test Takers</th>\n",
       "      <th>Total Exams Taken</th>\n",
       "      <th>...</th>\n",
       "      <th>Location 1</th>\n",
       "      <th>Community Board</th>\n",
       "      <th>Council District</th>\n",
       "      <th>Census Tract</th>\n",
       "      <th>BIN</th>\n",
       "      <th>BBL</th>\n",
       "      <th>NTA</th>\n",
       "      <th>lat</th>\n",
       "      <th>lon</th>\n",
       "      <th>school_dist</th>\n",
       "    </tr>\n",
       "  </thead>\n",
       "  <tbody>\n",
       "    <tr>\n",
       "      <th>44</th>\n",
       "      <td>02M542</td>\n",
       "      <td>MANHATTAN BRIDGES HIGH SCHOOL</td>\n",
       "      <td>66</td>\n",
       "      <td>336.0</td>\n",
       "      <td>378.0</td>\n",
       "      <td>344.0</td>\n",
       "      <td>1058.0</td>\n",
       "      <td>Manhattan Bridges High School</td>\n",
       "      <td>67.000000</td>\n",
       "      <td>102.000000</td>\n",
       "      <td>...</td>\n",
       "      <td>525 West 50Th Street\\nNew York, NY 10019\\n(40....</td>\n",
       "      <td>4.000000</td>\n",
       "      <td>3.000000</td>\n",
       "      <td>135.000000</td>\n",
       "      <td>1.083802e+06</td>\n",
       "      <td>1.010790e+09</td>\n",
       "      <td>Clinton                                       ...</td>\n",
       "      <td>40.765027</td>\n",
       "      <td>-73.992517</td>\n",
       "      <td>02</td>\n",
       "    </tr>\n",
       "    <tr>\n",
       "      <th>82</th>\n",
       "      <td>06M348</td>\n",
       "      <td>WASHINGTON HEIGHTS EXPEDITIONARY LEARNING SCHOOL</td>\n",
       "      <td>70</td>\n",
       "      <td>380.0</td>\n",
       "      <td>395.0</td>\n",
       "      <td>399.0</td>\n",
       "      <td>1174.0</td>\n",
       "      <td>0</td>\n",
       "      <td>129.028846</td>\n",
       "      <td>197.038462</td>\n",
       "      <td>...</td>\n",
       "      <td>511 West 182Nd Street\\nNew York, NY 10033\\n(40...</td>\n",
       "      <td>12.000000</td>\n",
       "      <td>10.000000</td>\n",
       "      <td>269.000000</td>\n",
       "      <td>1.063703e+06</td>\n",
       "      <td>1.021550e+09</td>\n",
       "      <td>Washington Heights North                      ...</td>\n",
       "      <td>40.848879</td>\n",
       "      <td>-73.930807</td>\n",
       "      <td>06</td>\n",
       "    </tr>\n",
       "    <tr>\n",
       "      <th>89</th>\n",
       "      <td>06M552</td>\n",
       "      <td>GREGORIO LUPERON HIGH SCHOOL FOR SCIENCE AND M...</td>\n",
       "      <td>56</td>\n",
       "      <td>339.0</td>\n",
       "      <td>349.0</td>\n",
       "      <td>326.0</td>\n",
       "      <td>1014.0</td>\n",
       "      <td>GREGORIO LUPERON HS SCI &amp; MATH</td>\n",
       "      <td>88.000000</td>\n",
       "      <td>138.000000</td>\n",
       "      <td>...</td>\n",
       "      <td>501 West 165Th\\nNew York, NY 10032\\n(40.838032...</td>\n",
       "      <td>6.792244</td>\n",
       "      <td>22.238227</td>\n",
       "      <td>3760.027701</td>\n",
       "      <td>2.587480e+06</td>\n",
       "      <td>2.515083e+09</td>\n",
       "      <td>0</td>\n",
       "      <td>40.838032</td>\n",
       "      <td>-73.938371</td>\n",
       "      <td>06</td>\n",
       "    </tr>\n",
       "    <tr>\n",
       "      <th>125</th>\n",
       "      <td>09X365</td>\n",
       "      <td>ACADEMY FOR LANGUAGE AND TECHNOLOGY</td>\n",
       "      <td>54</td>\n",
       "      <td>315.0</td>\n",
       "      <td>339.0</td>\n",
       "      <td>297.0</td>\n",
       "      <td>951.0</td>\n",
       "      <td>Academy for Language and Technology</td>\n",
       "      <td>20.000000</td>\n",
       "      <td>20.000000</td>\n",
       "      <td>...</td>\n",
       "      <td>1700 Macombs Road\\nBronx, NY 10453\\n(40.849102...</td>\n",
       "      <td>5.000000</td>\n",
       "      <td>14.000000</td>\n",
       "      <td>21502.000000</td>\n",
       "      <td>2.008460e+06</td>\n",
       "      <td>2.028660e+09</td>\n",
       "      <td>University Heights-Morris Heights             ...</td>\n",
       "      <td>40.849102</td>\n",
       "      <td>-73.916088</td>\n",
       "      <td>09</td>\n",
       "    </tr>\n",
       "    <tr>\n",
       "      <th>141</th>\n",
       "      <td>10X342</td>\n",
       "      <td>INTERNATIONAL SCHOOL FOR LIBERAL ARTS</td>\n",
       "      <td>49</td>\n",
       "      <td>300.0</td>\n",
       "      <td>333.0</td>\n",
       "      <td>301.0</td>\n",
       "      <td>934.0</td>\n",
       "      <td>International School for Liberal Arts</td>\n",
       "      <td>55.000000</td>\n",
       "      <td>73.000000</td>\n",
       "      <td>...</td>\n",
       "      <td>2780 Reservoir Avenue\\nBronx, NY 10468\\n(40.87...</td>\n",
       "      <td>7.000000</td>\n",
       "      <td>11.000000</td>\n",
       "      <td>409.000000</td>\n",
       "      <td>2.015241e+06</td>\n",
       "      <td>2.032470e+09</td>\n",
       "      <td>Van Cortlandt Village                         ...</td>\n",
       "      <td>40.870377</td>\n",
       "      <td>-73.898163</td>\n",
       "      <td>10</td>\n",
       "    </tr>\n",
       "  </tbody>\n",
       "</table>\n",
       "<p>5 rows × 166 columns</p>\n",
       "</div>"
      ],
      "text/plain": [
       "        DBN                                        SCHOOL NAME  \\\n",
       "44   02M542                      MANHATTAN BRIDGES HIGH SCHOOL   \n",
       "82   06M348   WASHINGTON HEIGHTS EXPEDITIONARY LEARNING SCHOOL   \n",
       "89   06M552  GREGORIO LUPERON HIGH SCHOOL FOR SCIENCE AND M...   \n",
       "125  09X365                ACADEMY FOR LANGUAGE AND TECHNOLOGY   \n",
       "141  10X342              INTERNATIONAL SCHOOL FOR LIBERAL ARTS   \n",
       "\n",
       "    Num of SAT Test Takers  SAT Critical Reading Avg. Score  \\\n",
       "44                      66                            336.0   \n",
       "82                      70                            380.0   \n",
       "89                      56                            339.0   \n",
       "125                     54                            315.0   \n",
       "141                     49                            300.0   \n",
       "\n",
       "     SAT Math Avg. Score  SAT Writing Avg. Score  sat_score  \\\n",
       "44                 378.0                   344.0     1058.0   \n",
       "82                 395.0                   399.0     1174.0   \n",
       "89                 349.0                   326.0     1014.0   \n",
       "125                339.0                   297.0      951.0   \n",
       "141                333.0                   301.0      934.0   \n",
       "\n",
       "                                SchoolName  AP Test Takers   \\\n",
       "44           Manhattan Bridges High School        67.000000   \n",
       "82                                       0       129.028846   \n",
       "89          GREGORIO LUPERON HS SCI & MATH        88.000000   \n",
       "125    Academy for Language and Technology        20.000000   \n",
       "141  International School for Liberal Arts        55.000000   \n",
       "\n",
       "     Total Exams Taken     ...      \\\n",
       "44          102.000000     ...       \n",
       "82          197.038462     ...       \n",
       "89          138.000000     ...       \n",
       "125          20.000000     ...       \n",
       "141          73.000000     ...       \n",
       "\n",
       "                                            Location 1 Community Board  \\\n",
       "44   525 West 50Th Street\\nNew York, NY 10019\\n(40....        4.000000   \n",
       "82   511 West 182Nd Street\\nNew York, NY 10033\\n(40...       12.000000   \n",
       "89   501 West 165Th\\nNew York, NY 10032\\n(40.838032...        6.792244   \n",
       "125  1700 Macombs Road\\nBronx, NY 10453\\n(40.849102...        5.000000   \n",
       "141  2780 Reservoir Avenue\\nBronx, NY 10468\\n(40.87...        7.000000   \n",
       "\n",
       "    Council District  Census Tract           BIN           BBL  \\\n",
       "44          3.000000    135.000000  1.083802e+06  1.010790e+09   \n",
       "82         10.000000    269.000000  1.063703e+06  1.021550e+09   \n",
       "89         22.238227   3760.027701  2.587480e+06  2.515083e+09   \n",
       "125        14.000000  21502.000000  2.008460e+06  2.028660e+09   \n",
       "141        11.000000    409.000000  2.015241e+06  2.032470e+09   \n",
       "\n",
       "                                                   NTA        lat        lon  \\\n",
       "44   Clinton                                       ...  40.765027 -73.992517   \n",
       "82   Washington Heights North                      ...  40.848879 -73.930807   \n",
       "89                                                   0  40.838032 -73.938371   \n",
       "125  University Heights-Morris Heights             ...  40.849102 -73.916088   \n",
       "141  Van Cortlandt Village                         ...  40.870377 -73.898163   \n",
       "\n",
       "    school_dist  \n",
       "44           02  \n",
       "82           06  \n",
       "89           06  \n",
       "125          09  \n",
       "141          10  \n",
       "\n",
       "[5 rows x 166 columns]"
      ]
     },
     "execution_count": 59,
     "metadata": {},
     "output_type": "execute_result"
    }
   ],
   "source": [
    "combined[combined['hispanic_per']>95].head()"
   ]
  },
  {
   "cell_type": "markdown",
   "metadata": {},
   "source": [
    "These schools seem to be for students that want to learn English."
   ]
  },
  {
   "cell_type": "code",
   "execution_count": 61,
   "metadata": {},
   "outputs": [
    {
     "data": {
      "text/html": [
       "<div>\n",
       "<style>\n",
       "    .dataframe thead tr:only-child th {\n",
       "        text-align: right;\n",
       "    }\n",
       "\n",
       "    .dataframe thead th {\n",
       "        text-align: left;\n",
       "    }\n",
       "\n",
       "    .dataframe tbody tr th {\n",
       "        vertical-align: top;\n",
       "    }\n",
       "</style>\n",
       "<table border=\"1\" class=\"dataframe\">\n",
       "  <thead>\n",
       "    <tr style=\"text-align: right;\">\n",
       "      <th></th>\n",
       "      <th>DBN</th>\n",
       "      <th>SCHOOL NAME</th>\n",
       "      <th>Num of SAT Test Takers</th>\n",
       "      <th>SAT Critical Reading Avg. Score</th>\n",
       "      <th>SAT Math Avg. Score</th>\n",
       "      <th>SAT Writing Avg. Score</th>\n",
       "      <th>sat_score</th>\n",
       "      <th>SchoolName</th>\n",
       "      <th>AP Test Takers</th>\n",
       "      <th>Total Exams Taken</th>\n",
       "      <th>...</th>\n",
       "      <th>Location 1</th>\n",
       "      <th>Community Board</th>\n",
       "      <th>Council District</th>\n",
       "      <th>Census Tract</th>\n",
       "      <th>BIN</th>\n",
       "      <th>BBL</th>\n",
       "      <th>NTA</th>\n",
       "      <th>lat</th>\n",
       "      <th>lon</th>\n",
       "      <th>school_dist</th>\n",
       "    </tr>\n",
       "  </thead>\n",
       "  <tbody>\n",
       "    <tr>\n",
       "      <th>37</th>\n",
       "      <td>02M475</td>\n",
       "      <td>STUYVESANT HIGH SCHOOL</td>\n",
       "      <td>832</td>\n",
       "      <td>679.0</td>\n",
       "      <td>735.0</td>\n",
       "      <td>682.0</td>\n",
       "      <td>2096.0</td>\n",
       "      <td>STUYVESANT HS</td>\n",
       "      <td>1510.0</td>\n",
       "      <td>2819.0</td>\n",
       "      <td>...</td>\n",
       "      <td>345 Chambers Street\\nNew York, NY 10282\\n(40.7...</td>\n",
       "      <td>1.0</td>\n",
       "      <td>1.0</td>\n",
       "      <td>31703.0</td>\n",
       "      <td>1084587.0</td>\n",
       "      <td>1.000160e+09</td>\n",
       "      <td>Battery Park City-Lower Manhattan             ...</td>\n",
       "      <td>40.717746</td>\n",
       "      <td>-74.014049</td>\n",
       "      <td>02</td>\n",
       "    </tr>\n",
       "    <tr>\n",
       "      <th>151</th>\n",
       "      <td>10X445</td>\n",
       "      <td>BRONX HIGH SCHOOL OF SCIENCE</td>\n",
       "      <td>731</td>\n",
       "      <td>632.0</td>\n",
       "      <td>688.0</td>\n",
       "      <td>649.0</td>\n",
       "      <td>1969.0</td>\n",
       "      <td>BRONX HS OF SCIENCE</td>\n",
       "      <td>1190.0</td>\n",
       "      <td>2435.0</td>\n",
       "      <td>...</td>\n",
       "      <td>75 West 205 Street\\nBronx, NY 10468\\n(40.87705...</td>\n",
       "      <td>7.0</td>\n",
       "      <td>11.0</td>\n",
       "      <td>409.0</td>\n",
       "      <td>2094706.0</td>\n",
       "      <td>2.032510e+09</td>\n",
       "      <td>Van Cortlandt Village                         ...</td>\n",
       "      <td>40.877056</td>\n",
       "      <td>-73.889780</td>\n",
       "      <td>10</td>\n",
       "    </tr>\n",
       "    <tr>\n",
       "      <th>187</th>\n",
       "      <td>13K430</td>\n",
       "      <td>BROOKLYN TECHNICAL HIGH SCHOOL</td>\n",
       "      <td>1277</td>\n",
       "      <td>587.0</td>\n",
       "      <td>659.0</td>\n",
       "      <td>587.0</td>\n",
       "      <td>1833.0</td>\n",
       "      <td>BROOKLYN TECHNICAL HS</td>\n",
       "      <td>2117.0</td>\n",
       "      <td>3692.0</td>\n",
       "      <td>...</td>\n",
       "      <td>29 Ft Greene Place\\nBrooklyn, NY 11217\\n(40.68...</td>\n",
       "      <td>2.0</td>\n",
       "      <td>35.0</td>\n",
       "      <td>33.0</td>\n",
       "      <td>3058752.0</td>\n",
       "      <td>3.020980e+09</td>\n",
       "      <td>Fort Greene                                   ...</td>\n",
       "      <td>40.688107</td>\n",
       "      <td>-73.976745</td>\n",
       "      <td>13</td>\n",
       "    </tr>\n",
       "    <tr>\n",
       "      <th>327</th>\n",
       "      <td>28Q687</td>\n",
       "      <td>QUEENS HIGH SCHOOL FOR THE SCIENCES AT YORK CO...</td>\n",
       "      <td>121</td>\n",
       "      <td>612.0</td>\n",
       "      <td>660.0</td>\n",
       "      <td>596.0</td>\n",
       "      <td>1868.0</td>\n",
       "      <td>Queens HS for Science York Colllege</td>\n",
       "      <td>215.0</td>\n",
       "      <td>338.0</td>\n",
       "      <td>...</td>\n",
       "      <td>94 50 159 Street\\nJamaica, NY 11433\\n(40.70099...</td>\n",
       "      <td>12.0</td>\n",
       "      <td>27.0</td>\n",
       "      <td>246.0</td>\n",
       "      <td>4215611.0</td>\n",
       "      <td>4.100990e+09</td>\n",
       "      <td>Jamaica                                       ...</td>\n",
       "      <td>40.700999</td>\n",
       "      <td>-73.798154</td>\n",
       "      <td>28</td>\n",
       "    </tr>\n",
       "    <tr>\n",
       "      <th>356</th>\n",
       "      <td>31R605</td>\n",
       "      <td>STATEN ISLAND TECHNICAL HIGH SCHOOL</td>\n",
       "      <td>227</td>\n",
       "      <td>635.0</td>\n",
       "      <td>682.0</td>\n",
       "      <td>636.0</td>\n",
       "      <td>1953.0</td>\n",
       "      <td>STATEN ISLAND TECHNICAL HS</td>\n",
       "      <td>528.0</td>\n",
       "      <td>905.0</td>\n",
       "      <td>...</td>\n",
       "      <td>485 Clawson Street Staten Island\\nNY 10306\\n(4...</td>\n",
       "      <td>2.0</td>\n",
       "      <td>50.0</td>\n",
       "      <td>134.0</td>\n",
       "      <td>5107621.0</td>\n",
       "      <td>5.042440e+09</td>\n",
       "      <td>New Dorp-Midland Beach                        ...</td>\n",
       "      <td>40.567913</td>\n",
       "      <td>-74.115362</td>\n",
       "      <td>31</td>\n",
       "    </tr>\n",
       "  </tbody>\n",
       "</table>\n",
       "<p>5 rows × 166 columns</p>\n",
       "</div>"
      ],
      "text/plain": [
       "        DBN                                        SCHOOL NAME  \\\n",
       "37   02M475                             STUYVESANT HIGH SCHOOL   \n",
       "151  10X445                       BRONX HIGH SCHOOL OF SCIENCE   \n",
       "187  13K430                     BROOKLYN TECHNICAL HIGH SCHOOL   \n",
       "327  28Q687  QUEENS HIGH SCHOOL FOR THE SCIENCES AT YORK CO...   \n",
       "356  31R605                STATEN ISLAND TECHNICAL HIGH SCHOOL   \n",
       "\n",
       "    Num of SAT Test Takers  SAT Critical Reading Avg. Score  \\\n",
       "37                     832                            679.0   \n",
       "151                    731                            632.0   \n",
       "187                   1277                            587.0   \n",
       "327                    121                            612.0   \n",
       "356                    227                            635.0   \n",
       "\n",
       "     SAT Math Avg. Score  SAT Writing Avg. Score  sat_score  \\\n",
       "37                 735.0                   682.0     2096.0   \n",
       "151                688.0                   649.0     1969.0   \n",
       "187                659.0                   587.0     1833.0   \n",
       "327                660.0                   596.0     1868.0   \n",
       "356                682.0                   636.0     1953.0   \n",
       "\n",
       "                              SchoolName  AP Test Takers   Total Exams Taken  \\\n",
       "37                         STUYVESANT HS           1510.0             2819.0   \n",
       "151                  BRONX HS OF SCIENCE           1190.0             2435.0   \n",
       "187                BROOKLYN TECHNICAL HS           2117.0             3692.0   \n",
       "327  Queens HS for Science York Colllege            215.0              338.0   \n",
       "356           STATEN ISLAND TECHNICAL HS            528.0              905.0   \n",
       "\n",
       "        ...                                             Location 1  \\\n",
       "37      ...      345 Chambers Street\\nNew York, NY 10282\\n(40.7...   \n",
       "151     ...      75 West 205 Street\\nBronx, NY 10468\\n(40.87705...   \n",
       "187     ...      29 Ft Greene Place\\nBrooklyn, NY 11217\\n(40.68...   \n",
       "327     ...      94 50 159 Street\\nJamaica, NY 11433\\n(40.70099...   \n",
       "356     ...      485 Clawson Street Staten Island\\nNY 10306\\n(4...   \n",
       "\n",
       "    Community Board Council District Census Tract        BIN           BBL  \\\n",
       "37              1.0              1.0      31703.0  1084587.0  1.000160e+09   \n",
       "151             7.0             11.0        409.0  2094706.0  2.032510e+09   \n",
       "187             2.0             35.0         33.0  3058752.0  3.020980e+09   \n",
       "327            12.0             27.0        246.0  4215611.0  4.100990e+09   \n",
       "356             2.0             50.0        134.0  5107621.0  5.042440e+09   \n",
       "\n",
       "                                                   NTA        lat        lon  \\\n",
       "37   Battery Park City-Lower Manhattan             ...  40.717746 -74.014049   \n",
       "151  Van Cortlandt Village                         ...  40.877056 -73.889780   \n",
       "187  Fort Greene                                   ...  40.688107 -73.976745   \n",
       "327  Jamaica                                       ...  40.700999 -73.798154   \n",
       "356  New Dorp-Midland Beach                        ...  40.567913 -74.115362   \n",
       "\n",
       "    school_dist  \n",
       "37           02  \n",
       "151          10  \n",
       "187          13  \n",
       "327          28  \n",
       "356          31  \n",
       "\n",
       "[5 rows x 166 columns]"
      ]
     },
     "execution_count": 61,
     "metadata": {},
     "output_type": "execute_result"
    }
   ],
   "source": [
    "combined[(combined['hispanic_per']<10)&(combined['sat_score']>1800)].head()"
   ]
  },
  {
   "cell_type": "markdown",
   "metadata": {},
   "source": [
    "These are schools that specialize in science and technology and probably only admit certain group of students. This does not explain the low hispanic percentage though."
   ]
  },
  {
   "cell_type": "markdown",
   "metadata": {},
   "source": [
    "### Gender differences"
   ]
  },
  {
   "cell_type": "code",
   "execution_count": 62,
   "metadata": {},
   "outputs": [
    {
     "data": {
      "text/plain": [
       "<matplotlib.axes._subplots.AxesSubplot at 0x1a10187cf8>"
      ]
     },
     "execution_count": 62,
     "metadata": {},
     "output_type": "execute_result"
    },
    {
     "data": {
      "image/png": "[encoded data removed]",
      "text/plain": [
       "<matplotlib.figure.Figure at 0x1a0f74c7b8>"
      ]
     },
     "metadata": {},
     "output_type": "display_data"
    }
   ],
   "source": [
    "combined.corr()['sat_score'][['male_per','female_per']].plot.bar()"
   ]
  },
  {
   "cell_type": "markdown",
   "metadata": {},
   "source": [
    "Neither correlations are strong. However, higher percentage of female suggest higher SAT for the school. Let's see if we can find any relationships."
   ]
  },
  {
   "cell_type": "code",
   "execution_count": 67,
   "metadata": {},
   "outputs": [
    {
     "data": {
      "text/plain": [
       "<seaborn.axisgrid.FacetGrid at 0x1a17984240>"
      ]
     },
     "execution_count": 67,
     "metadata": {},
     "output_type": "execute_result"
    },
    {
     "data": {
      "image/png": "[encoded data removed]",
      "text/plain": [
       "<matplotlib.figure.Figure at 0x1a179840f0>"
      ]
     },
     "metadata": {},
     "output_type": "display_data"
    }
   ],
   "source": [
    "sns.lmplot(x='female_per',y='sat_score',data=combined)"
   ]
  },
  {
   "cell_type": "markdown",
   "metadata": {},
   "source": [
    "There does not seem to be any significant relationships. However, there are schools with higher than 60 and lower than 80 percent female that get high SATs."
   ]
  },
  {
   "cell_type": "code",
   "execution_count": 72,
   "metadata": {},
   "outputs": [
    {
     "data": {
      "text/plain": [
       "5                         BARD HIGH SCHOOL EARLY COLLEGE\n",
       "26                         ELEANOR ROOSEVELT HIGH SCHOOL\n",
       "60                                    BEACON HIGH SCHOOL\n",
       "61     FIORELLO H. LAGUARDIA HIGH SCHOOL OF MUSIC & A...\n",
       "302                          TOWNSEND HARRIS HIGH SCHOOL\n",
       "Name: SCHOOL NAME, dtype: object"
      ]
     },
     "execution_count": 72,
     "metadata": {},
     "output_type": "execute_result"
    }
   ],
   "source": [
    "combined[(combined['female_per']>60)&(combined['female_per']<80)&(combined['sat_score']>1700)]['SCHOOL NAME']"
   ]
  },
  {
   "cell_type": "markdown",
   "metadata": {},
   "source": [
    "Interesting! It would be good to do some research on these schools!"
   ]
  },
  {
   "cell_type": "markdown",
   "metadata": {},
   "source": [
    "### AP exam takers and SAT score\n",
    "first, let's calculate the ratio of AP takes"
   ]
  },
  {
   "cell_type": "code",
   "execution_count": 77,
   "metadata": {},
   "outputs": [
    {
     "data": {
      "text/plain": [
       "<seaborn.axisgrid.FacetGrid at 0x1a17d18908>"
      ]
     },
     "execution_count": 77,
     "metadata": {},
     "output_type": "execute_result"
    },
    {
     "data": {
      "image/png": "[encoded data removed]",
      "text/plain": [
       "<matplotlib.figure.Figure at 0x1a179ac748>"
      ]
     },
     "metadata": {},
     "output_type": "display_data"
    }
   ],
   "source": [
    "combined[\"ap_taker\"] = combined[\"AP Test Takers \"] / combined[\"total_enrollment\"]\n",
    "\n",
    "sns.lmplot(x='ap_taker',y='sat_score',data=combined)"
   ]
  },
  {
   "cell_type": "markdown",
   "metadata": {},
   "source": [
    "It does not seem to be a huge relationship!"
   ]
  }
 ],
 "metadata": {
  "kernelspec": {
   "display_name": "Python 3",
   "language": "python",
   "name": "python3"
  },
  "language_info": {
   "codemirror_mode": {
    "name": "ipython",
    "version": 3
   },
   "file_extension": ".py",
   "mimetype": "text/x-python",
   "name": "python",
   "nbconvert_exporter": "python",
   "pygments_lexer": "ipython3",
   "version": "3.6.3"
  }
 },
 "nbformat": 4,
 "nbformat_minor": 2
}
